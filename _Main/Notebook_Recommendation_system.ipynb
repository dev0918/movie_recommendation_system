{
  "nbformat": 4,
  "nbformat_minor": 0,
  "metadata": {
    "colab": {
      "name": "Copy of Notebook_Recommendation system.ipynb",
      "provenance": [],
      "collapsed_sections": [
        "GuzTSRjZFzNK",
        "cmArgby5G0r0"
      ]
    },
    "kernelspec": {
      "name": "python3",
      "display_name": "Python 3"
    }
  },
  "cells": [
    {
      "cell_type": "markdown",
      "metadata": {
        "id": "raqGVTxg4sOW",
        "colab_type": "text"
      },
      "source": [
        "# **MOVIE RECOMMENDATIONS SYSTEM** \n",
        "    # Building Recommendation System to predict User prefrences for Entertainment Product"
      ]
    },
    {
      "cell_type": "markdown",
      "metadata": {
        "id": "GuzTSRjZFzNK",
        "colab_type": "text"
      },
      "source": [
        "# EDA"
      ]
    },
    {
      "cell_type": "markdown",
      "metadata": {
        "id": "lxKmHUMZllJw",
        "colab_type": "text"
      },
      "source": [
        "1. What does the data mean?\n",
        "2. Data cleaning (remove null values, outlier analysis, etc.)\n",
        "3. Keeping in mind the broad categories of recommendation system algorithms, what features you will need and why?\n",
        "4. Perform data visualization on the dataset provided like; popularity of various genres, most rated movies, highest rated movies, least rated movies, etc."
      ]
    },
    {
      "cell_type": "markdown",
      "metadata": {
        "id": "PSc1R-npFeTI",
        "colab_type": "text"
      },
      "source": [
        "*DATA DISCRIPTION*"
      ]
    },
    {
      "cell_type": "code",
      "metadata": {
        "id": "326tR9gMhDof",
        "colab_type": "code",
        "colab": {
          "base_uri": "https://localhost:8080/",
          "height": 115
        },
        "outputId": "b5bf5164-5af4-4a84-ac93-6887f3451215"
      },
      "source": [
        "import pandas as pd\n",
        "import seaborn as sns\n",
        "import matplotlib.pyplot as plt\n",
        "import numpy as np\n",
        "!pip install surprise\n",
        "import surprise\n",
        "from collections import defaultdict\n",
        "from sklearn.metrics.pairwise import cosine_similarity\n",
        "from surprise.model_selection import GridSearchCV\n",
        "from surprise import accuracy\n",
        "from surprise.model_selection import train_test_split\n",
        "from surprise import Reader, Dataset, SVD, model_selection\n",
        "\n",
        "ratings=pd.read_csv('/content/drive/My Drive/datasets/Ratings .csv')\n",
        "movies=pd.read_csv('/content/drive/My Drive/datasets/movies.csv')\n",
        "userdata=pd.read_csv('/content/drive/My Drive/datasets/user_data.csv')\n",
        "\n",
        "#merge datasets:: ratings,movies and userdata\n",
        "d=pd.merge(userdata,ratings,on='UserID',how='left')\n",
        "df=pd.merge(d,movies,on='MovieID',how='left')"
      ],
      "execution_count": null,
      "outputs": [
        {
          "output_type": "stream",
          "text": [
            "Requirement already satisfied: surprise in /usr/local/lib/python3.6/dist-packages (0.1)\n",
            "Requirement already satisfied: scikit-surprise in /usr/local/lib/python3.6/dist-packages (from surprise) (1.1.0)\n",
            "Requirement already satisfied: joblib>=0.11 in /usr/local/lib/python3.6/dist-packages (from scikit-surprise->surprise) (0.16.0)\n",
            "Requirement already satisfied: scipy>=1.0.0 in /usr/local/lib/python3.6/dist-packages (from scikit-surprise->surprise) (1.4.1)\n",
            "Requirement already satisfied: numpy>=1.11.2 in /usr/local/lib/python3.6/dist-packages (from scikit-surprise->surprise) (1.18.5)\n",
            "Requirement already satisfied: six>=1.10.0 in /usr/local/lib/python3.6/dist-packages (from scikit-surprise->surprise) (1.12.0)\n"
          ],
          "name": "stdout"
        }
      ]
    },
    {
      "cell_type": "code",
      "metadata": {
        "id": "5yyGnVmbVpzo",
        "colab_type": "code",
        "colab": {
          "base_uri": "https://localhost:8080/",
          "height": 66
        },
        "outputId": "4ff0c783-b06c-4106-d1fa-420cabbc9fb0"
      },
      "source": [
        "#Shapes of datasets:\n",
        "print('shape of ratings dataset ::',ratings.shape)\n",
        "print('shape of movies dataset ::',movies.shape)\n",
        "print('shape of userdata dataset ::',userdata.shape)"
      ],
      "execution_count": null,
      "outputs": [
        {
          "output_type": "stream",
          "text": [
            "shape of ratings dataset :: (1000209, 4)\n",
            "shape of movies dataset :: (3883, 3)\n",
            "shape of userdata dataset :: (6040, 5)\n"
          ],
          "name": "stdout"
        }
      ]
    },
    {
      "cell_type": "code",
      "metadata": {
        "id": "BwAvuZCoVvnz",
        "colab_type": "code",
        "colab": {}
      },
      "source": [
        "d=pd.merge(userdata,ratings,on='UserID',how='left')\n",
        "df=pd.merge(d,movies,on='MovieID',how='left')"
      ],
      "execution_count": null,
      "outputs": []
    },
    {
      "cell_type": "code",
      "metadata": {
        "id": "Q2ik_Sntegzt",
        "colab_type": "code",
        "colab": {
          "base_uri": "https://localhost:8080/",
          "height": 50
        },
        "outputId": "b7911fd3-7025-4bf9-bb59-05ffe89b2956"
      },
      "source": [
        "num_cols=df.columns # dispaly numerical and categorical features\n",
        "continues= []\n",
        "categorical =[ ]\n",
        "for i in num_cols:\n",
        "  if(len(df[i].unique()))>=(df.shape[0]/25):\n",
        "     continues.append(i)\n",
        "  else:\n",
        "    categorical.append(i)\n",
        "print ('continue variables',continues,'\\n','Categorical Variables',categorical) "
      ],
      "execution_count": null,
      "outputs": [
        {
          "output_type": "stream",
          "text": [
            "continue variables ['Timestamp'] \n",
            " Categorical Variables ['UserID', 'Gender', 'Age', 'Occupation', 'Zip-code', 'MovieID', 'Rating', 'Title', 'Genres']\n"
          ],
          "name": "stdout"
        }
      ]
    },
    {
      "cell_type": "code",
      "metadata": {
        "id": "zwiy62yyLI0K",
        "colab_type": "code",
        "colab": {
          "base_uri": "https://localhost:8080/",
          "height": 432
        },
        "outputId": "bf628ffd-a91a-4559-d3df-77998042f0d0"
      },
      "source": [
        "split_data,split_data.Genres = df.iloc[[i   for i,j in enumerate(df['Genres']) for value in j.split(\"|\")] , :],[value for i in df['Genres'] for value in i.split(\"|\")]\n",
        "split_data.head(10)"
      ],
      "execution_count": null,
      "outputs": [
        {
          "output_type": "stream",
          "text": [
            "/usr/local/lib/python3.6/dist-packages/pandas/core/generic.py:5303: SettingWithCopyWarning: \n",
            "A value is trying to be set on a copy of a slice from a DataFrame.\n",
            "Try using .loc[row_indexer,col_indexer] = value instead\n",
            "\n",
            "See the caveats in the documentation: https://pandas.pydata.org/pandas-docs/stable/user_guide/indexing.html#returning-a-view-versus-a-copy\n",
            "  self[name] = value\n"
          ],
          "name": "stderr"
        },
        {
          "output_type": "execute_result",
          "data": {
            "text/html": [
              "<div>\n",
              "<style scoped>\n",
              "    .dataframe tbody tr th:only-of-type {\n",
              "        vertical-align: middle;\n",
              "    }\n",
              "\n",
              "    .dataframe tbody tr th {\n",
              "        vertical-align: top;\n",
              "    }\n",
              "\n",
              "    .dataframe thead th {\n",
              "        text-align: right;\n",
              "    }\n",
              "</style>\n",
              "<table border=\"1\" class=\"dataframe\">\n",
              "  <thead>\n",
              "    <tr style=\"text-align: right;\">\n",
              "      <th></th>\n",
              "      <th>UserID</th>\n",
              "      <th>Gender</th>\n",
              "      <th>Age</th>\n",
              "      <th>Occupation</th>\n",
              "      <th>Zip-code</th>\n",
              "      <th>MovieID</th>\n",
              "      <th>Rating</th>\n",
              "      <th>Timestamp</th>\n",
              "      <th>Title</th>\n",
              "      <th>Genres</th>\n",
              "    </tr>\n",
              "  </thead>\n",
              "  <tbody>\n",
              "    <tr>\n",
              "      <th>0</th>\n",
              "      <td>1</td>\n",
              "      <td>F</td>\n",
              "      <td>1</td>\n",
              "      <td>10</td>\n",
              "      <td>48067</td>\n",
              "      <td>1193</td>\n",
              "      <td>5</td>\n",
              "      <td>978300760</td>\n",
              "      <td>One Flew Over the Cuckoo's Nest (1975)</td>\n",
              "      <td>Drama</td>\n",
              "    </tr>\n",
              "    <tr>\n",
              "      <th>1</th>\n",
              "      <td>1</td>\n",
              "      <td>F</td>\n",
              "      <td>1</td>\n",
              "      <td>10</td>\n",
              "      <td>48067</td>\n",
              "      <td>661</td>\n",
              "      <td>3</td>\n",
              "      <td>978302109</td>\n",
              "      <td>James and the Giant Peach (1996)</td>\n",
              "      <td>Animation</td>\n",
              "    </tr>\n",
              "    <tr>\n",
              "      <th>1</th>\n",
              "      <td>1</td>\n",
              "      <td>F</td>\n",
              "      <td>1</td>\n",
              "      <td>10</td>\n",
              "      <td>48067</td>\n",
              "      <td>661</td>\n",
              "      <td>3</td>\n",
              "      <td>978302109</td>\n",
              "      <td>James and the Giant Peach (1996)</td>\n",
              "      <td>Children's</td>\n",
              "    </tr>\n",
              "    <tr>\n",
              "      <th>1</th>\n",
              "      <td>1</td>\n",
              "      <td>F</td>\n",
              "      <td>1</td>\n",
              "      <td>10</td>\n",
              "      <td>48067</td>\n",
              "      <td>661</td>\n",
              "      <td>3</td>\n",
              "      <td>978302109</td>\n",
              "      <td>James and the Giant Peach (1996)</td>\n",
              "      <td>Musical</td>\n",
              "    </tr>\n",
              "    <tr>\n",
              "      <th>2</th>\n",
              "      <td>1</td>\n",
              "      <td>F</td>\n",
              "      <td>1</td>\n",
              "      <td>10</td>\n",
              "      <td>48067</td>\n",
              "      <td>914</td>\n",
              "      <td>3</td>\n",
              "      <td>978301968</td>\n",
              "      <td>My Fair Lady (1964)</td>\n",
              "      <td>Musical</td>\n",
              "    </tr>\n",
              "    <tr>\n",
              "      <th>2</th>\n",
              "      <td>1</td>\n",
              "      <td>F</td>\n",
              "      <td>1</td>\n",
              "      <td>10</td>\n",
              "      <td>48067</td>\n",
              "      <td>914</td>\n",
              "      <td>3</td>\n",
              "      <td>978301968</td>\n",
              "      <td>My Fair Lady (1964)</td>\n",
              "      <td>Romance</td>\n",
              "    </tr>\n",
              "    <tr>\n",
              "      <th>3</th>\n",
              "      <td>1</td>\n",
              "      <td>F</td>\n",
              "      <td>1</td>\n",
              "      <td>10</td>\n",
              "      <td>48067</td>\n",
              "      <td>3408</td>\n",
              "      <td>4</td>\n",
              "      <td>978300275</td>\n",
              "      <td>Erin Brockovich (2000)</td>\n",
              "      <td>Drama</td>\n",
              "    </tr>\n",
              "    <tr>\n",
              "      <th>4</th>\n",
              "      <td>1</td>\n",
              "      <td>F</td>\n",
              "      <td>1</td>\n",
              "      <td>10</td>\n",
              "      <td>48067</td>\n",
              "      <td>2355</td>\n",
              "      <td>5</td>\n",
              "      <td>978824291</td>\n",
              "      <td>Bug's Life, A (1998)</td>\n",
              "      <td>Animation</td>\n",
              "    </tr>\n",
              "    <tr>\n",
              "      <th>4</th>\n",
              "      <td>1</td>\n",
              "      <td>F</td>\n",
              "      <td>1</td>\n",
              "      <td>10</td>\n",
              "      <td>48067</td>\n",
              "      <td>2355</td>\n",
              "      <td>5</td>\n",
              "      <td>978824291</td>\n",
              "      <td>Bug's Life, A (1998)</td>\n",
              "      <td>Children's</td>\n",
              "    </tr>\n",
              "    <tr>\n",
              "      <th>4</th>\n",
              "      <td>1</td>\n",
              "      <td>F</td>\n",
              "      <td>1</td>\n",
              "      <td>10</td>\n",
              "      <td>48067</td>\n",
              "      <td>2355</td>\n",
              "      <td>5</td>\n",
              "      <td>978824291</td>\n",
              "      <td>Bug's Life, A (1998)</td>\n",
              "      <td>Comedy</td>\n",
              "    </tr>\n",
              "  </tbody>\n",
              "</table>\n",
              "</div>"
            ],
            "text/plain": [
              "   UserID Gender  ...                                   Title      Genres\n",
              "0       1      F  ...  One Flew Over the Cuckoo's Nest (1975)       Drama\n",
              "1       1      F  ...        James and the Giant Peach (1996)   Animation\n",
              "1       1      F  ...        James and the Giant Peach (1996)  Children's\n",
              "1       1      F  ...        James and the Giant Peach (1996)     Musical\n",
              "2       1      F  ...                     My Fair Lady (1964)     Musical\n",
              "2       1      F  ...                     My Fair Lady (1964)     Romance\n",
              "3       1      F  ...                  Erin Brockovich (2000)       Drama\n",
              "4       1      F  ...                    Bug's Life, A (1998)   Animation\n",
              "4       1      F  ...                    Bug's Life, A (1998)  Children's\n",
              "4       1      F  ...                    Bug's Life, A (1998)      Comedy\n",
              "\n",
              "[10 rows x 10 columns]"
            ]
          },
          "metadata": {
            "tags": []
          },
          "execution_count": 11
        }
      ]
    },
    {
      "cell_type": "markdown",
      "metadata": {
        "id": "yk3LdRkCmq-q",
        "colab_type": "text"
      },
      "source": [
        "***4. Perform data visualization on the dataset provided like; popularity of various genres, most rated movies, highest rated movies, least rated movies, etc.***"
      ]
    },
    {
      "cell_type": "markdown",
      "metadata": {
        "id": "UH_NIVJ7AD49",
        "colab_type": "text"
      },
      "source": [
        "***Univariate Analysis***"
      ]
    },
    {
      "cell_type": "code",
      "metadata": {
        "id": "qapnru5_put4",
        "colab_type": "code",
        "colab": {
          "base_uri": "https://localhost:8080/",
          "height": 1000
        },
        "outputId": "2bd75626-b006-408b-e5d4-fa56462f8986"
      },
      "source": [
        "df.hist(figsize=[20,15],bins=20,grid=False,color='g', zorder=2, rwidth=0.9)"
      ],
      "execution_count": null,
      "outputs": [
        {
          "output_type": "execute_result",
          "data": {
            "text/plain": [
              "array([[<matplotlib.axes._subplots.AxesSubplot object at 0x7f31ba3529e8>,\n",
              "        <matplotlib.axes._subplots.AxesSubplot object at 0x7f31ba2afcc0>],\n",
              "       [<matplotlib.axes._subplots.AxesSubplot object at 0x7f31ba2e2f28>,\n",
              "        <matplotlib.axes._subplots.AxesSubplot object at 0x7f31ba2a21d0>],\n",
              "       [<matplotlib.axes._subplots.AxesSubplot object at 0x7f31ba257438>,\n",
              "        <matplotlib.axes._subplots.AxesSubplot object at 0x7f31ba2086a0>]],\n",
              "      dtype=object)"
            ]
          },
          "metadata": {
            "tags": []
          },
          "execution_count": 4
        },
        {
          "output_type": "display_data",
          "data": {
            "image/png": "[encoded data removed]",
            "text/plain": [
              "<Figure size 1440x1080 with 6 Axes>"
            ]
          },
          "metadata": {
            "tags": [],
            "needs_background": "light"
          }
        }
      ]
    },
    {
      "cell_type": "markdown",
      "metadata": {
        "id": "3b543LGi2ZdB",
        "colab_type": "text"
      },
      "source": [
        " ***INFRENCES:***\n",
        "\n",
        "\n",
        "*   There is maximum number of users who's age lies between 25 to 30\n",
        "*   mostly **School/grade students** and **other or not specified** occupations's user watched the max of movies\n",
        "*   maximum of movies are **4-star** rated\n",
        "*   Timestamp Histogram shows there is an outlier in dataset\n",
        "*   Farmers don't like movies compare to other users\n",
        "*   Frequency of MovieID and UserID are continuouly increases or decreases.\n",
        "\n"
      ]
    },
    {
      "cell_type": "markdown",
      "metadata": {
        "id": "BeeKFBYaP5mZ",
        "colab_type": "text"
      },
      "source": [
        "***Popularity of various Occupations***"
      ]
    },
    {
      "cell_type": "code",
      "metadata": {
        "id": "7Hl-7fW5xx7R",
        "colab_type": "code",
        "colab": {
          "base_uri": "https://localhost:8080/",
          "height": 352
        },
        "outputId": "690d8531-4b7b-48db-e691-927b9673f9f8"
      },
      "source": [
        "df['Occupation'].value_counts().plot.bar(figsize=[10,5]).set_xlabel('Occupation')\n",
        "# 4 represents school/grade student ,0= other or not specified\n",
        "# user who's belongs 4 and 0 occupation has maximum number in dataset"
      ],
      "execution_count": null,
      "outputs": [
        {
          "output_type": "execute_result",
          "data": {
            "text/plain": [
              "Text(0.5, 0, 'Occupation')"
            ]
          },
          "metadata": {
            "tags": []
          },
          "execution_count": 58
        },
        {
          "output_type": "display_data",
          "data": {
            "image/png": "[encoded data removed]",
            "text/plain": [
              "<Figure size 720x360 with 1 Axes>"
            ]
          },
          "metadata": {
            "tags": [],
            "needs_background": "light"
          }
        }
      ]
    },
    {
      "cell_type": "markdown",
      "metadata": {
        "id": "fHV-aC5ytHpv",
        "colab_type": "text"
      },
      "source": [
        "*  Highest frequency is for Ocuupation 4(**School/grade student**)\n",
        "*  Lowest frequency is for Occupation 8 (**Farmer**)"
      ]
    },
    {
      "cell_type": "code",
      "metadata": {
        "id": "V1ydQTzUFb76",
        "colab_type": "code",
        "colab": {
          "base_uri": "https://localhost:8080/",
          "height": 373
        },
        "outputId": "8e2a0895-7638-4b68-ff10-da4af73a4c99"
      },
      "source": [
        "df['Temp_Time'].value_counts().plot.bar(figsize=[15,5])"
      ],
      "execution_count": null,
      "outputs": [
        {
          "output_type": "execute_result",
          "data": {
            "text/plain": [
              "<matplotlib.axes._subplots.AxesSubplot at 0x7fbb15a7d278>"
            ]
          },
          "metadata": {
            "tags": []
          },
          "execution_count": 81
        },
        {
          "output_type": "display_data",
          "data": {
            "image/png": "[encoded data removed]",
            "text/plain": [
              "<Figure size 1080x360 with 1 Axes>"
            ]
          },
          "metadata": {
            "tags": []
          }
        }
      ]
    },
    {
      "cell_type": "markdown",
      "metadata": {
        "id": "oB6LIZCLPtmg",
        "colab_type": "text"
      },
      "source": [
        "***Infrences***\n",
        "*  The ratings given to movies in the year 2000 and month November are highest\n",
        "*  In the year 2001 and 2002 as seen from the above graph the ratings given to movies is almost equivalent to 0"
      ]
    },
    {
      "cell_type": "markdown",
      "metadata": {
        "id": "84-UHgmop78_",
        "colab_type": "text"
      },
      "source": [
        "***Gender Distribution***"
      ]
    },
    {
      "cell_type": "code",
      "metadata": {
        "id": "WZEZtGazprBX",
        "colab_type": "code",
        "colab": {
          "base_uri": "https://localhost:8080/",
          "height": 350
        },
        "outputId": "bed423ca-d402-40c3-b8dc-c1de1b4c7cce"
      },
      "source": [
        "print(userdata.groupby('Gender').size())\n",
        "sns.set(style=\"darkgrid\")\n",
        "ax = sns.countplot(x=\"Gender\", data=userdata)"
      ],
      "execution_count": null,
      "outputs": [
        {
          "output_type": "stream",
          "text": [
            "Gender\n",
            "F    1709\n",
            "M    4331\n",
            "dtype: int64\n"
          ],
          "name": "stdout"
        },
        {
          "output_type": "display_data",
          "data": {
            "image/png": "[encoded data removed]",
            "text/plain": [
              "<Figure size 432x288 with 1 Axes>"
            ]
          },
          "metadata": {
            "tags": []
          }
        }
      ]
    },
    {
      "cell_type": "markdown",
      "metadata": {
        "id": "Os4bJrqMasFp",
        "colab_type": "text"
      },
      "source": [
        "***INFRENCE***\n",
        "*  Frequency of number of users is higher for male as compare to female.\n"
      ]
    },
    {
      "cell_type": "markdown",
      "metadata": {
        "id": "KS1OVIonqlTh",
        "colab_type": "text"
      },
      "source": [
        "***Age Distribution***"
      ]
    },
    {
      "cell_type": "code",
      "metadata": {
        "id": "LG_j8LPUhjcj",
        "colab_type": "code",
        "colab": {
          "base_uri": "https://localhost:8080/",
          "height": 431
        },
        "outputId": "7d216dc0-b1b3-4657-bd49-838ae454b887"
      },
      "source": [
        "print(userdata.groupby('Age').size())\n",
        "sns.set(style=\"darkgrid\")\n",
        "ax = sns.countplot(x=\"Age\", data=userdata)"
      ],
      "execution_count": null,
      "outputs": [
        {
          "output_type": "stream",
          "text": [
            "Age\n",
            "1      222\n",
            "18    1103\n",
            "25    2096\n",
            "35    1193\n",
            "45     550\n",
            "50     496\n",
            "56     380\n",
            "dtype: int64\n"
          ],
          "name": "stdout"
        },
        {
          "output_type": "display_data",
          "data": {
            "image/png": "[encoded data removed]",
            "text/plain": [
              "<Figure size 432x288 with 1 Axes>"
            ]
          },
          "metadata": {
            "tags": []
          }
        }
      ]
    },
    {
      "cell_type": "markdown",
      "metadata": {
        "id": "3ZUiVdFCbwtC",
        "colab_type": "text"
      },
      "source": [
        "***INFRENCE***\n",
        "*  The above distribution shows that the most of the users are 25 years old\n",
        "\n"
      ]
    },
    {
      "cell_type": "code",
      "metadata": {
        "id": "AB8tyb9vYZEY",
        "colab_type": "code",
        "colab": {
          "base_uri": "https://localhost:8080/",
          "height": 398
        },
        "outputId": "7e484f6b-49fc-4335-d955-d22417fa2a12"
      },
      "source": [
        "#Rating Distribution\n",
        "l=df.groupby('Rating').count()[['Title']]\n",
        "print(df.groupby('Rating').size())\n",
        "sns.set(style=\"darkgrid\")\n",
        "ax = sns.countplot(x=\"Rating\", data=df)"
      ],
      "execution_count": null,
      "outputs": [
        {
          "output_type": "stream",
          "text": [
            "Rating\n",
            "1     56174\n",
            "2    107557\n",
            "3    261197\n",
            "4    348971\n",
            "5    226310\n",
            "dtype: int64\n"
          ],
          "name": "stdout"
        },
        {
          "output_type": "display_data",
          "data": {
            "image/png": "[encoded data removed]",
            "text/plain": [
              "<Figure size 432x288 with 1 Axes>"
            ]
          },
          "metadata": {
            "tags": []
          }
        }
      ]
    },
    {
      "cell_type": "markdown",
      "metadata": {
        "id": "MMUbrhuvAn0S",
        "colab_type": "text"
      },
      "source": [
        "***Bivariate Analysis***"
      ]
    },
    {
      "cell_type": "code",
      "metadata": {
        "id": "Ive-wBs6AfrC",
        "colab_type": "code",
        "colab": {
          "base_uri": "https://localhost:8080/",
          "height": 368
        },
        "outputId": "3347b8ea-2ea3-44f8-a1c0-707cc54ed372"
      },
      "source": [
        "##Distribition of different Gender vs Ratings\n",
        "a=sn.FacetGrid(df,col='Gender',col_wrap=4,height=5)\n",
        "a=a.map(plt.hist,'Rating')"
      ],
      "execution_count": null,
      "outputs": [
        {
          "output_type": "display_data",
          "data": {
            "image/png": "[encoded data removed]",
            "text/plain": [
              "<Figure size 1440x360 with 2 Axes>"
            ]
          },
          "metadata": {
            "tags": [],
            "needs_background": "light"
          }
        }
      ]
    },
    {
      "cell_type": "markdown",
      "metadata": {
        "id": "6hebNeOGQ7-C",
        "colab_type": "text"
      },
      "source": [
        "*  **Most of Male user who rate or watched the max of movies**"
      ]
    },
    {
      "cell_type": "code",
      "metadata": {
        "id": "XStgOU9UA-pG",
        "colab_type": "code",
        "colab": {
          "base_uri": "https://localhost:8080/",
          "height": 1000
        },
        "outputId": "49c7e37b-cfe0-45ab-e1f6-c4d33bcae65e"
      },
      "source": [
        "##Distribition of different occupation vs Ratings of movies\n",
        "a=sn.FacetGrid(df,col='Occupation',col_wrap=5,height=4,aspect=1)\n",
        "a=a.map(plt.hist,'Rating',color='g')"
      ],
      "execution_count": null,
      "outputs": [
        {
          "output_type": "display_data",
          "data": {
            "image/png": "[encoded data removed]",
            "text/plain": [
              "<Figure size 1440x1440 with 21 Axes>"
            ]
          },
          "metadata": {
            "tags": [],
            "needs_background": "light"
          }
        }
      ]
    },
    {
      "cell_type": "code",
      "metadata": {
        "id": "Hkaz6QI45mFP",
        "colab_type": "code",
        "colab": {
          "base_uri": "https://localhost:8080/",
          "height": 335
        },
        "outputId": "2cfce259-6556-4044-9e77-4f3e4ede78c8"
      },
      "source": [
        "#Average Rated Genres\n",
        "r= split_data.groupby(['Genres'], as_index=False)['Rating'].aggregate(np.mean)\n",
        "r.head(10).sort_values(by='Rating',ascending=False)"
      ],
      "execution_count": null,
      "outputs": [
        {
          "output_type": "execute_result",
          "data": {
            "text/html": [
              "<div>\n",
              "<style scoped>\n",
              "    .dataframe tbody tr th:only-of-type {\n",
              "        vertical-align: middle;\n",
              "    }\n",
              "\n",
              "    .dataframe tbody tr th {\n",
              "        vertical-align: top;\n",
              "    }\n",
              "\n",
              "    .dataframe thead th {\n",
              "        text-align: right;\n",
              "    }\n",
              "</style>\n",
              "<table border=\"1\" class=\"dataframe\">\n",
              "  <thead>\n",
              "    <tr style=\"text-align: right;\">\n",
              "      <th></th>\n",
              "      <th>Genres</th>\n",
              "      <th>Rating</th>\n",
              "    </tr>\n",
              "  </thead>\n",
              "  <tbody>\n",
              "    <tr>\n",
              "      <th>9</th>\n",
              "      <td>Film-Noir</td>\n",
              "      <td>4.075188</td>\n",
              "    </tr>\n",
              "    <tr>\n",
              "      <th>6</th>\n",
              "      <td>Documentary</td>\n",
              "      <td>3.933123</td>\n",
              "    </tr>\n",
              "    <tr>\n",
              "      <th>7</th>\n",
              "      <td>Drama</td>\n",
              "      <td>3.766332</td>\n",
              "    </tr>\n",
              "    <tr>\n",
              "      <th>5</th>\n",
              "      <td>Crime</td>\n",
              "      <td>3.708679</td>\n",
              "    </tr>\n",
              "    <tr>\n",
              "      <th>2</th>\n",
              "      <td>Animation</td>\n",
              "      <td>3.684868</td>\n",
              "    </tr>\n",
              "    <tr>\n",
              "      <th>4</th>\n",
              "      <td>Comedy</td>\n",
              "      <td>3.522099</td>\n",
              "    </tr>\n",
              "    <tr>\n",
              "      <th>0</th>\n",
              "      <td>Action</td>\n",
              "      <td>3.491185</td>\n",
              "    </tr>\n",
              "    <tr>\n",
              "      <th>1</th>\n",
              "      <td>Adventure</td>\n",
              "      <td>3.477257</td>\n",
              "    </tr>\n",
              "    <tr>\n",
              "      <th>8</th>\n",
              "      <td>Fantasy</td>\n",
              "      <td>3.447371</td>\n",
              "    </tr>\n",
              "    <tr>\n",
              "      <th>3</th>\n",
              "      <td>Children's</td>\n",
              "      <td>3.422035</td>\n",
              "    </tr>\n",
              "  </tbody>\n",
              "</table>\n",
              "</div>"
            ],
            "text/plain": [
              "        Genres    Rating\n",
              "9    Film-Noir  4.075188\n",
              "6  Documentary  3.933123\n",
              "7        Drama  3.766332\n",
              "5        Crime  3.708679\n",
              "2    Animation  3.684868\n",
              "4       Comedy  3.522099\n",
              "0       Action  3.491185\n",
              "1    Adventure  3.477257\n",
              "8      Fantasy  3.447371\n",
              "3   Children's  3.422035"
            ]
          },
          "metadata": {
            "tags": []
          },
          "execution_count": 7
        }
      ]
    },
    {
      "cell_type": "markdown",
      "metadata": {
        "id": "oM8DV7xQThcT",
        "colab_type": "text"
      },
      "source": [
        "***Popularty of Movies Genres***"
      ]
    },
    {
      "cell_type": "code",
      "metadata": {
        "id": "aqtb6PkyWS54",
        "colab_type": "code",
        "colab": {
          "base_uri": "https://localhost:8080/",
          "height": 638
        },
        "outputId": "03fc6ba4-727e-4503-ece2-2fe44034cc43"
      },
      "source": [
        "gen = ' '.join(split_data['Genres'].str.lower())\n",
        "filtered_words = [word for word in gen.split() if word not in stopwords]\n",
        "counted_words = collections.Counter(filtered_words)\n",
        "words = []\n",
        "counts = []\n",
        "for letter, count in counted_words.most_common(10):\n",
        "    words.append(letter)\n",
        "    counts.append(count)\n",
        "colors = cm.rainbow(np.linspace(0, 1, 10))\n",
        "rcParams['figure.figsize'] = 20, 10\n",
        "plt.title('Genres')\n",
        "plt.xlabel('Count')\n",
        "plt.ylabel('Genres')\n",
        "plt.barh(words, counts, color=colors)"
      ],
      "execution_count": null,
      "outputs": [
        {
          "output_type": "execute_result",
          "data": {
            "text/plain": [
              "<BarContainer object of 10 artists>"
            ]
          },
          "metadata": {
            "tags": []
          },
          "execution_count": 44
        },
        {
          "output_type": "display_data",
          "data": {
            "image/png": "[encoded data removed]",
            "text/plain": [
              "<Figure size 1440x720 with 1 Axes>"
            ]
          },
          "metadata": {
            "tags": [],
            "needs_background": "light"
          }
        }
      ]
    },
    {
      "cell_type": "markdown",
      "metadata": {
        "id": "KY-SsvhxhKAi",
        "colab_type": "text"
      },
      "source": [
        "***INFRENCES***\n",
        "*  In the above plot **Comedy** is the most rated movies genres.\n",
        "* **Action,Drama** and Thriller are also among the most rated after comedy.We think This encapsulates the idea of presence of comedy in large amount in movies genres.\n",
        "\n",
        "* Least occurent genres are **Documentary,film-Noir,Western**."
      ]
    },
    {
      "cell_type": "markdown",
      "metadata": {
        "id": "p5gLVC8lU7g_",
        "colab_type": "text"
      },
      "source": [
        "***Most rated movies***"
      ]
    },
    {
      "cell_type": "code",
      "metadata": {
        "id": "O8Cr-c_3Ym6t",
        "colab_type": "code",
        "colab": {
          "base_uri": "https://localhost:8080/",
          "height": 948
        },
        "outputId": "6b9a1650-9e4c-4903-a364-cfe101d63d8e"
      },
      "source": [
        "#Top 20 most rated movies\n",
        "h=df.groupby('Title').count().sort_values(ascending=False,by='Rating')[['Rating']]\n",
        "print(h.head(20))\n",
        "df.groupby('Title')['Rating'].count().nlargest(20).plot(kind='pie',figsize=[15,10])"
      ],
      "execution_count": null,
      "outputs": [
        {
          "output_type": "stream",
          "text": [
            "                                                    Rating\n",
            "Title                                                     \n",
            "American Beauty (1999)                                3428\n",
            "Star Wars: Episode IV - A New Hope (1977)             2991\n",
            "Star Wars: Episode V - The Empire Strikes Back ...    2990\n",
            "Star Wars: Episode VI - Return of the Jedi (1983)     2883\n",
            "Jurassic Park (1993)                                  2672\n",
            "Saving Private Ryan (1998)                            2653\n",
            "Terminator 2: Judgment Day (1991)                     2649\n",
            "Matrix, The (1999)                                    2590\n",
            "Back to the Future (1985)                             2583\n",
            "Silence of the Lambs, The (1991)                      2578\n",
            "Men in Black (1997)                                   2538\n",
            "Raiders of the Lost Ark (1981)                        2514\n",
            "Fargo (1996)                                          2513\n",
            "Sixth Sense, The (1999)                               2459\n",
            "Braveheart (1995)                                     2443\n",
            "Shakespeare in Love (1998)                            2369\n",
            "Princess Bride, The (1987)                            2318\n",
            "Schindler's List (1993)                               2304\n",
            "L.A. Confidential (1997)                              2288\n",
            "Groundhog Day (1993)                                  2278\n"
          ],
          "name": "stdout"
        },
        {
          "output_type": "execute_result",
          "data": {
            "text/plain": [
              "<matplotlib.axes._subplots.AxesSubplot at 0x7f319714ee80>"
            ]
          },
          "metadata": {
            "tags": []
          },
          "execution_count": 53
        },
        {
          "output_type": "display_data",
          "data": {
            "image/png": "[encoded data removed]",
            "text/plain": [
              "<Figure size 1080x720 with 1 Axes>"
            ]
          },
          "metadata": {
            "tags": []
          }
        }
      ]
    },
    {
      "cell_type": "code",
      "metadata": {
        "id": "HoJUlCSUICh7",
        "colab_type": "code",
        "colab": {
          "base_uri": "https://localhost:8080/",
          "height": 1000
        },
        "outputId": "d8eb9154-4af0-470c-f425-8b8ec475fa82"
      },
      "source": [
        "#Genres comparision based on Ratings\n",
        "a=sn.FacetGrid(split_data,col='Genres',col_wrap=4,height=5,)\n",
        "a=a.map(plt.hist,'Rating',color='g')"
      ],
      "execution_count": null,
      "outputs": [
        {
          "output_type": "display_data",
          "data": {
            "image/png": "[encoded data removed]",
            "text/plain": [
              "<Figure size 1440x1800 with 18 Axes>"
            ]
          },
          "metadata": {
            "tags": [],
            "needs_background": "light"
          }
        }
      ]
    },
    {
      "cell_type": "markdown",
      "metadata": {
        "id": "1ZhNxxGtEHK8",
        "colab_type": "text"
      },
      "source": [
        "***Infrences***\n",
        "\n",
        "*  **Drametic** and **Comedy** movies are mostly liked by users\n",
        "*  And Documentry has least likes as compared to other Genres"
      ]
    },
    {
      "cell_type": "markdown",
      "metadata": {
        "id": "eMl9RovszRNk",
        "colab_type": "text"
      },
      "source": [
        "***Highest rated movies***"
      ]
    },
    {
      "cell_type": "code",
      "metadata": {
        "id": "FOYecLHZ5vJN",
        "colab_type": "code",
        "colab": {
          "base_uri": "https://localhost:8080/",
          "height": 335
        },
        "outputId": "c8b35925-4e71-4dff-bdf7-16f6db67d041"
      },
      "source": [
        "#Top 10 Highest Rated movies\n",
        "hr= df['Rating']>4\n",
        "s=df[hr].head(10)\n",
        "s"
      ],
      "execution_count": null,
      "outputs": [
        {
          "output_type": "execute_result",
          "data": {
            "text/html": [
              "<div>\n",
              "<style scoped>\n",
              "    .dataframe tbody tr th:only-of-type {\n",
              "        vertical-align: middle;\n",
              "    }\n",
              "\n",
              "    .dataframe tbody tr th {\n",
              "        vertical-align: top;\n",
              "    }\n",
              "\n",
              "    .dataframe thead th {\n",
              "        text-align: right;\n",
              "    }\n",
              "</style>\n",
              "<table border=\"1\" class=\"dataframe\">\n",
              "  <thead>\n",
              "    <tr style=\"text-align: right;\">\n",
              "      <th></th>\n",
              "      <th>UserID</th>\n",
              "      <th>Gender</th>\n",
              "      <th>Age</th>\n",
              "      <th>Occupation</th>\n",
              "      <th>Zip-code</th>\n",
              "      <th>MovieID</th>\n",
              "      <th>Rating</th>\n",
              "      <th>Timestamp</th>\n",
              "      <th>Title</th>\n",
              "      <th>Genres</th>\n",
              "    </tr>\n",
              "  </thead>\n",
              "  <tbody>\n",
              "    <tr>\n",
              "      <th>0</th>\n",
              "      <td>1</td>\n",
              "      <td>F</td>\n",
              "      <td>1</td>\n",
              "      <td>10</td>\n",
              "      <td>48067</td>\n",
              "      <td>1193</td>\n",
              "      <td>5</td>\n",
              "      <td>978300760</td>\n",
              "      <td>One Flew Over the Cuckoo's Nest (1975)</td>\n",
              "      <td>Drama</td>\n",
              "    </tr>\n",
              "    <tr>\n",
              "      <th>4</th>\n",
              "      <td>1</td>\n",
              "      <td>F</td>\n",
              "      <td>1</td>\n",
              "      <td>10</td>\n",
              "      <td>48067</td>\n",
              "      <td>2355</td>\n",
              "      <td>5</td>\n",
              "      <td>978824291</td>\n",
              "      <td>Bug's Life, A (1998)</td>\n",
              "      <td>Animation|Children's|Comedy</td>\n",
              "    </tr>\n",
              "    <tr>\n",
              "      <th>6</th>\n",
              "      <td>1</td>\n",
              "      <td>F</td>\n",
              "      <td>1</td>\n",
              "      <td>10</td>\n",
              "      <td>48067</td>\n",
              "      <td>1287</td>\n",
              "      <td>5</td>\n",
              "      <td>978302039</td>\n",
              "      <td>Ben-Hur (1959)</td>\n",
              "      <td>Action|Adventure|Drama</td>\n",
              "    </tr>\n",
              "    <tr>\n",
              "      <th>7</th>\n",
              "      <td>1</td>\n",
              "      <td>F</td>\n",
              "      <td>1</td>\n",
              "      <td>10</td>\n",
              "      <td>48067</td>\n",
              "      <td>2804</td>\n",
              "      <td>5</td>\n",
              "      <td>978300719</td>\n",
              "      <td>Christmas Story, A (1983)</td>\n",
              "      <td>Comedy|Drama</td>\n",
              "    </tr>\n",
              "    <tr>\n",
              "      <th>10</th>\n",
              "      <td>1</td>\n",
              "      <td>F</td>\n",
              "      <td>1</td>\n",
              "      <td>10</td>\n",
              "      <td>48067</td>\n",
              "      <td>595</td>\n",
              "      <td>5</td>\n",
              "      <td>978824268</td>\n",
              "      <td>Beauty and the Beast (1991)</td>\n",
              "      <td>Animation|Children's|Musical</td>\n",
              "    </tr>\n",
              "    <tr>\n",
              "      <th>14</th>\n",
              "      <td>1</td>\n",
              "      <td>F</td>\n",
              "      <td>1</td>\n",
              "      <td>10</td>\n",
              "      <td>48067</td>\n",
              "      <td>1035</td>\n",
              "      <td>5</td>\n",
              "      <td>978301753</td>\n",
              "      <td>Sound of Music, The (1965)</td>\n",
              "      <td>Musical</td>\n",
              "    </tr>\n",
              "    <tr>\n",
              "      <th>18</th>\n",
              "      <td>1</td>\n",
              "      <td>F</td>\n",
              "      <td>1</td>\n",
              "      <td>10</td>\n",
              "      <td>48067</td>\n",
              "      <td>3105</td>\n",
              "      <td>5</td>\n",
              "      <td>978301713</td>\n",
              "      <td>Awakenings (1990)</td>\n",
              "      <td>Drama</td>\n",
              "    </tr>\n",
              "    <tr>\n",
              "      <th>22</th>\n",
              "      <td>1</td>\n",
              "      <td>F</td>\n",
              "      <td>1</td>\n",
              "      <td>10</td>\n",
              "      <td>48067</td>\n",
              "      <td>1270</td>\n",
              "      <td>5</td>\n",
              "      <td>978300055</td>\n",
              "      <td>Back to the Future (1985)</td>\n",
              "      <td>Comedy|Sci-Fi</td>\n",
              "    </tr>\n",
              "    <tr>\n",
              "      <th>23</th>\n",
              "      <td>1</td>\n",
              "      <td>F</td>\n",
              "      <td>1</td>\n",
              "      <td>10</td>\n",
              "      <td>48067</td>\n",
              "      <td>527</td>\n",
              "      <td>5</td>\n",
              "      <td>978824195</td>\n",
              "      <td>Schindler's List (1993)</td>\n",
              "      <td>Drama|War</td>\n",
              "    </tr>\n",
              "    <tr>\n",
              "      <th>25</th>\n",
              "      <td>1</td>\n",
              "      <td>F</td>\n",
              "      <td>1</td>\n",
              "      <td>10</td>\n",
              "      <td>48067</td>\n",
              "      <td>48</td>\n",
              "      <td>5</td>\n",
              "      <td>978824351</td>\n",
              "      <td>Pocahontas (1995)</td>\n",
              "      <td>Animation|Children's|Musical|Romance</td>\n",
              "    </tr>\n",
              "  </tbody>\n",
              "</table>\n",
              "</div>"
            ],
            "text/plain": [
              "    UserID  ...                                Genres\n",
              "0        1  ...                                 Drama\n",
              "4        1  ...           Animation|Children's|Comedy\n",
              "6        1  ...                Action|Adventure|Drama\n",
              "7        1  ...                          Comedy|Drama\n",
              "10       1  ...          Animation|Children's|Musical\n",
              "14       1  ...                               Musical\n",
              "18       1  ...                                 Drama\n",
              "22       1  ...                         Comedy|Sci-Fi\n",
              "23       1  ...                             Drama|War\n",
              "25       1  ...  Animation|Children's|Musical|Romance\n",
              "\n",
              "[10 rows x 10 columns]"
            ]
          },
          "metadata": {
            "tags": []
          },
          "execution_count": 53
        }
      ]
    },
    {
      "cell_type": "markdown",
      "metadata": {
        "id": "jtwUUfsOrwBP",
        "colab_type": "text"
      },
      "source": [
        "***Least rated movies***"
      ]
    },
    {
      "cell_type": "code",
      "metadata": {
        "id": "DdoUUhMhr2fY",
        "colab_type": "code",
        "colab": {
          "base_uri": "https://localhost:8080/",
          "height": 191
        },
        "outputId": "3a9d6ff6-7722-41b6-8d78-1265c737a6fb"
      },
      "source": [
        "#Top 5 least Rated movies\n",
        "lr= df['Rating']<2\n",
        "df[lr].head()"
      ],
      "execution_count": null,
      "outputs": [
        {
          "output_type": "execute_result",
          "data": {
            "text/html": [
              "<div>\n",
              "<style scoped>\n",
              "    .dataframe tbody tr th:only-of-type {\n",
              "        vertical-align: middle;\n",
              "    }\n",
              "\n",
              "    .dataframe tbody tr th {\n",
              "        vertical-align: top;\n",
              "    }\n",
              "\n",
              "    .dataframe thead th {\n",
              "        text-align: right;\n",
              "    }\n",
              "</style>\n",
              "<table border=\"1\" class=\"dataframe\">\n",
              "  <thead>\n",
              "    <tr style=\"text-align: right;\">\n",
              "      <th></th>\n",
              "      <th>UserID</th>\n",
              "      <th>Gender</th>\n",
              "      <th>Age</th>\n",
              "      <th>Occupation</th>\n",
              "      <th>Zip-code</th>\n",
              "      <th>MovieID</th>\n",
              "      <th>Rating</th>\n",
              "      <th>Timestamp</th>\n",
              "      <th>Title</th>\n",
              "      <th>Genres</th>\n",
              "    </tr>\n",
              "  </thead>\n",
              "  <tbody>\n",
              "    <tr>\n",
              "      <th>148</th>\n",
              "      <td>2</td>\n",
              "      <td>M</td>\n",
              "      <td>56</td>\n",
              "      <td>16</td>\n",
              "      <td>70072</td>\n",
              "      <td>21</td>\n",
              "      <td>1</td>\n",
              "      <td>978299839</td>\n",
              "      <td>Get Shorty (1995)</td>\n",
              "      <td>Action|Comedy|Drama</td>\n",
              "    </tr>\n",
              "    <tr>\n",
              "      <th>180</th>\n",
              "      <td>2</td>\n",
              "      <td>M</td>\n",
              "      <td>56</td>\n",
              "      <td>16</td>\n",
              "      <td>70072</td>\n",
              "      <td>3893</td>\n",
              "      <td>1</td>\n",
              "      <td>978299535</td>\n",
              "      <td>Nurse Betty (2000)</td>\n",
              "      <td>Comedy|Thriller</td>\n",
              "    </tr>\n",
              "    <tr>\n",
              "      <th>205</th>\n",
              "      <td>3</td>\n",
              "      <td>M</td>\n",
              "      <td>25</td>\n",
              "      <td>15</td>\n",
              "      <td>55117</td>\n",
              "      <td>1261</td>\n",
              "      <td>1</td>\n",
              "      <td>978297663</td>\n",
              "      <td>Evil Dead II (Dead By Dawn) (1987)</td>\n",
              "      <td>Action|Adventure|Comedy|Horror</td>\n",
              "    </tr>\n",
              "    <tr>\n",
              "      <th>249</th>\n",
              "      <td>4</td>\n",
              "      <td>M</td>\n",
              "      <td>45</td>\n",
              "      <td>7</td>\n",
              "      <td>2460</td>\n",
              "      <td>3527</td>\n",
              "      <td>1</td>\n",
              "      <td>978294008</td>\n",
              "      <td>Predator (1987)</td>\n",
              "      <td>Action|Sci-Fi|Thriller</td>\n",
              "    </tr>\n",
              "    <tr>\n",
              "      <th>268</th>\n",
              "      <td>5</td>\n",
              "      <td>M</td>\n",
              "      <td>25</td>\n",
              "      <td>20</td>\n",
              "      <td>55455</td>\n",
              "      <td>2916</td>\n",
              "      <td>1</td>\n",
              "      <td>978245645</td>\n",
              "      <td>Total Recall (1990)</td>\n",
              "      <td>Action|Adventure|Sci-Fi|Thriller</td>\n",
              "    </tr>\n",
              "  </tbody>\n",
              "</table>\n",
              "</div>"
            ],
            "text/plain": [
              "     UserID  ...                            Genres\n",
              "148       2  ...               Action|Comedy|Drama\n",
              "180       2  ...                   Comedy|Thriller\n",
              "205       3  ...    Action|Adventure|Comedy|Horror\n",
              "249       4  ...            Action|Sci-Fi|Thriller\n",
              "268       5  ...  Action|Adventure|Sci-Fi|Thriller\n",
              "\n",
              "[5 rows x 10 columns]"
            ]
          },
          "metadata": {
            "tags": []
          },
          "execution_count": 55
        }
      ]
    },
    {
      "cell_type": "code",
      "metadata": {
        "id": "pZP8lkN6zuJM",
        "colab_type": "code",
        "colab": {
          "base_uri": "https://localhost:8080/",
          "height": 50
        },
        "outputId": "2b64cc2f-3068-48c6-88dd-08d1343e8a29"
      },
      "source": [
        "#unique movie genre\n",
        "u_Genres=split_data['Genres'].unique().tolist()\n",
        "print([u_Genres])\n",
        "print('Total Movie Genres:',len(u_Genres))"
      ],
      "execution_count": null,
      "outputs": [
        {
          "output_type": "stream",
          "text": [
            "[['Drama', 'Animation', \"Children's\", 'Musical', 'Romance', 'Comedy', 'Action', 'Adventure', 'Fantasy', 'Sci-Fi', 'War', 'Thriller', 'Crime', 'Mystery', 'Western', 'Horror', 'Film-Noir', 'Documentary']]\n",
            "Total Movie Genres: 18\n"
          ],
          "name": "stdout"
        }
      ]
    },
    {
      "cell_type": "code",
      "metadata": {
        "id": "tRaY-7Ru0nfH",
        "colab_type": "code",
        "colab": {
          "base_uri": "https://localhost:8080/",
          "height": 456
        },
        "outputId": "b2f81ede-8181-4b2d-807c-d4fe111bdb8c"
      },
      "source": [
        "#top 25 most rated movies\n",
        "most_rated = df.groupby('Title').size().sort_values(ascending=False)[:25]\n",
        "most_rated.head(25)"
      ],
      "execution_count": null,
      "outputs": [
        {
          "output_type": "execute_result",
          "data": {
            "text/plain": [
              "Title\n",
              "American Beauty (1999)                                   3428\n",
              "Star Wars: Episode IV - A New Hope (1977)                2991\n",
              "Star Wars: Episode V - The Empire Strikes Back (1980)    2990\n",
              "Star Wars: Episode VI - Return of the Jedi (1983)        2883\n",
              "Jurassic Park (1993)                                     2672\n",
              "Saving Private Ryan (1998)                               2653\n",
              "Terminator 2: Judgment Day (1991)                        2649\n",
              "Matrix, The (1999)                                       2590\n",
              "Back to the Future (1985)                                2583\n",
              "Silence of the Lambs, The (1991)                         2578\n",
              "Men in Black (1997)                                      2538\n",
              "Raiders of the Lost Ark (1981)                           2514\n",
              "Fargo (1996)                                             2513\n",
              "Sixth Sense, The (1999)                                  2459\n",
              "Braveheart (1995)                                        2443\n",
              "Shakespeare in Love (1998)                               2369\n",
              "Princess Bride, The (1987)                               2318\n",
              "Schindler's List (1993)                                  2304\n",
              "L.A. Confidential (1997)                                 2288\n",
              "Groundhog Day (1993)                                     2278\n",
              "E.T. the Extra-Terrestrial (1982)                        2269\n",
              "Star Wars: Episode I - The Phantom Menace (1999)         2250\n",
              "Being John Malkovich (1999)                              2241\n",
              "Shawshank Redemption, The (1994)                         2227\n",
              "Godfather, The (1972)                                    2223\n",
              "dtype: int64"
            ]
          },
          "metadata": {
            "tags": []
          },
          "execution_count": 74
        }
      ]
    },
    {
      "cell_type": "markdown",
      "metadata": {
        "id": "0lpfPbVxSy_r",
        "colab_type": "text"
      },
      "source": [
        "***2. Data cleaning (remove null values, outlier analysis, etc.***\n"
      ]
    },
    {
      "cell_type": "markdown",
      "metadata": {
        "id": "M7IIMd9ETdHL",
        "colab_type": "text"
      },
      "source": [
        "***Handling Missing values***"
      ]
    },
    {
      "cell_type": "code",
      "metadata": {
        "id": "T-Jjr8rufgig",
        "colab_type": "code",
        "colab": {
          "base_uri": "https://localhost:8080/",
          "height": 407
        },
        "outputId": "3a708d86-dd33-48d5-cfce-55f6b2420b13"
      },
      "source": [
        "#Detect Misiing or Null Values\n",
        "#Missing data percentage list\n",
        "for col in df.columns:\n",
        "    pct_missing = np.mean(df[col].isnull())\n",
        "    print('{} - {}%'.format(col, round(pct_missing*100)))\n",
        "print('\\n')\n",
        "print('Count NUll values : ')\n",
        "df.isnull().sum()"
      ],
      "execution_count": null,
      "outputs": [
        {
          "output_type": "stream",
          "text": [
            "UserID - 0.0%\n",
            "Gender - 0.0%\n",
            "Age - 0.0%\n",
            "Occupation - 0.0%\n",
            "Zip-code - 0.0%\n",
            "MovieID - 0.0%\n",
            "Rating - 0.0%\n",
            "Timestamp - 0.0%\n",
            "Title - 0.0%\n",
            "Genres - 0.0%\n",
            "\n",
            "\n",
            "Count NUll values : \n"
          ],
          "name": "stdout"
        },
        {
          "output_type": "execute_result",
          "data": {
            "text/plain": [
              "UserID        0\n",
              "Gender        0\n",
              "Age           0\n",
              "Occupation    0\n",
              "Zip-code      0\n",
              "MovieID       0\n",
              "Rating        0\n",
              "Timestamp     0\n",
              "Title         0\n",
              "Genres        0\n",
              "dtype: int64"
            ]
          },
          "metadata": {
            "tags": []
          },
          "execution_count": 120
        }
      ]
    },
    {
      "cell_type": "markdown",
      "metadata": {
        "id": "yKd3UmhNUkfG",
        "colab_type": "text"
      },
      "source": [
        "***So in Dataset there is no missing value***"
      ]
    },
    {
      "cell_type": "markdown",
      "metadata": {
        "id": "yuDyIB0nUy5Q",
        "colab_type": "text"
      },
      "source": [
        "***Handling Outliers***"
      ]
    },
    {
      "cell_type": "code",
      "metadata": {
        "id": "7tIsI7uxVHBn",
        "colab_type": "code",
        "colab": {
          "base_uri": "https://localhost:8080/",
          "height": 105
        },
        "outputId": "d85865e7-e61b-4466-f4b2-393ce38345d2"
      },
      "source": [
        "Num_cols=df._get_numeric_data()\n",
        "Num_cols.head(2)"
      ],
      "execution_count": null,
      "outputs": [
        {
          "output_type": "execute_result",
          "data": {
            "text/html": [
              "<div>\n",
              "<style scoped>\n",
              "    .dataframe tbody tr th:only-of-type {\n",
              "        vertical-align: middle;\n",
              "    }\n",
              "\n",
              "    .dataframe tbody tr th {\n",
              "        vertical-align: top;\n",
              "    }\n",
              "\n",
              "    .dataframe thead th {\n",
              "        text-align: right;\n",
              "    }\n",
              "</style>\n",
              "<table border=\"1\" class=\"dataframe\">\n",
              "  <thead>\n",
              "    <tr style=\"text-align: right;\">\n",
              "      <th></th>\n",
              "      <th>UserID</th>\n",
              "      <th>Age</th>\n",
              "      <th>Occupation</th>\n",
              "      <th>MovieID</th>\n",
              "      <th>Rating</th>\n",
              "      <th>Timestamp</th>\n",
              "    </tr>\n",
              "  </thead>\n",
              "  <tbody>\n",
              "    <tr>\n",
              "      <th>0</th>\n",
              "      <td>1</td>\n",
              "      <td>1</td>\n",
              "      <td>10</td>\n",
              "      <td>1193</td>\n",
              "      <td>5</td>\n",
              "      <td>978300760</td>\n",
              "    </tr>\n",
              "    <tr>\n",
              "      <th>1</th>\n",
              "      <td>1</td>\n",
              "      <td>1</td>\n",
              "      <td>10</td>\n",
              "      <td>661</td>\n",
              "      <td>3</td>\n",
              "      <td>978302109</td>\n",
              "    </tr>\n",
              "  </tbody>\n",
              "</table>\n",
              "</div>"
            ],
            "text/plain": [
              "   UserID  Age  Occupation  MovieID  Rating  Timestamp\n",
              "0       1    1          10     1193       5  978300760\n",
              "1       1    1          10      661       3  978302109"
            ]
          },
          "metadata": {
            "tags": []
          },
          "execution_count": 123
        }
      ]
    },
    {
      "cell_type": "code",
      "metadata": {
        "id": "YpAJ1hmd0gww",
        "colab_type": "code",
        "colab": {
          "base_uri": "https://localhost:8080/",
          "height": 131
        },
        "outputId": "9167de88-2da5-4612-b48e-60a3ab27387b"
      },
      "source": [
        "Num_F=['UserID','Age','Occupation','MovieID','Rating','Timestamp']\n",
        "df[Num_F].skew()"
      ],
      "execution_count": null,
      "outputs": [
        {
          "output_type": "execute_result",
          "data": {
            "text/plain": [
              "UserID        0.005735\n",
              "Age           0.398471\n",
              "Occupation    0.404363\n",
              "MovieID       0.092436\n",
              "Rating       -0.553610\n",
              "Timestamp     2.765691\n",
              "dtype: float64"
            ]
          },
          "metadata": {
            "tags": []
          },
          "execution_count": 125
        }
      ]
    },
    {
      "cell_type": "markdown",
      "metadata": {
        "id": "IRIdKgLNrqD2",
        "colab_type": "text"
      },
      "source": [
        "*  If skewness value lies between -1 and 1 then the data is normally distributed and any major deviation from this range indicates the presence of extreme values.\n",
        "*  Here we see only Timestamp has ouliers and other features skewness is bearable\n",
        "* Since Age Ratings and are contain numerical data so we check for the outliers in them.\n",
        "\n"
      ]
    },
    {
      "cell_type": "code",
      "metadata": {
        "id": "totaa3B8BjuW",
        "colab_type": "code",
        "colab": {
          "base_uri": "https://localhost:8080/",
          "height": 33
        },
        "outputId": "4a749260-a30a-44ef-d95f-8d3080acf0f1"
      },
      "source": [
        "len(df['Timestamp'].unique())"
      ],
      "execution_count": null,
      "outputs": [
        {
          "output_type": "execute_result",
          "data": {
            "text/plain": [
              "458455"
            ]
          },
          "metadata": {
            "tags": []
          },
          "execution_count": 64
        }
      ]
    },
    {
      "cell_type": "code",
      "metadata": {
        "id": "Vk__UhCNoFMd",
        "colab_type": "code",
        "colab": {
          "base_uri": "https://localhost:8080/",
          "height": 292
        },
        "outputId": "3f47abe6-ece0-41cd-be03-63b0e397ba39"
      },
      "source": [
        "df.boxplot(column='Timestamp')"
      ],
      "execution_count": null,
      "outputs": [
        {
          "output_type": "execute_result",
          "data": {
            "text/plain": [
              "<matplotlib.axes._subplots.AxesSubplot at 0x7f8c9faf95f8>"
            ]
          },
          "metadata": {
            "tags": []
          },
          "execution_count": 126
        },
        {
          "output_type": "display_data",
          "data": {
            "image/png": "[encoded data removed]",
            "text/plain": [
              "<Figure size 432x288 with 1 Axes>"
            ]
          },
          "metadata": {
            "tags": [],
            "needs_background": "light"
          }
        }
      ]
    },
    {
      "cell_type": "markdown",
      "metadata": {
        "id": "KLEYVlWfvsT-",
        "colab_type": "text"
      },
      "source": [
        "*  In user rating dataset has a timestamp column which stores the last time the rating was updated. it is the time mentioned in seconds when the rating was provided. because of it is a time. it is be like primary key or it has more then 45000 unique values.It is different for different users. we can't perform outlier treatment on this column."
      ]
    },
    {
      "cell_type": "markdown",
      "metadata": {
        "id": "SqAT71_DfCYe",
        "colab_type": "text"
      },
      "source": [
        "***3. Keeping in mind the broad categories of recommendation system algorithms, what features you will need and why?***"
      ]
    },
    {
      "cell_type": "markdown",
      "metadata": {
        "id": "UIMRc779469_",
        "colab_type": "text"
      },
      "source": [
        "*Label Encoding*"
      ]
    },
    {
      "cell_type": "code",
      "metadata": {
        "id": "7r9UivssEn7E",
        "colab_type": "code",
        "colab": {
          "base_uri": "https://localhost:8080/",
          "height": 191
        },
        "outputId": "2bcc360b-1a2a-4deb-88a4-dd5d5d9a0bf1"
      },
      "source": [
        "from sklearn.preprocessing import LabelEncoder\n",
        "le=LabelEncoder()\n",
        "df_=df.copy()\n",
        "le_df=pd.DataFrame()\n",
        "for i in list(set(df_.columns)-set(df_._get_numeric_data().columns)):\n",
        "  le_df[i]=le.fit_transform(df_[i])\n",
        "for j in list(df_._get_numeric_data().columns):\n",
        "  le_df[j]=df_[j]\n",
        "le_df.head()"
      ],
      "execution_count": null,
      "outputs": [
        {
          "output_type": "execute_result",
          "data": {
            "text/html": [
              "<div>\n",
              "<style scoped>\n",
              "    .dataframe tbody tr th:only-of-type {\n",
              "        vertical-align: middle;\n",
              "    }\n",
              "\n",
              "    .dataframe tbody tr th {\n",
              "        vertical-align: top;\n",
              "    }\n",
              "\n",
              "    .dataframe thead th {\n",
              "        text-align: right;\n",
              "    }\n",
              "</style>\n",
              "<table border=\"1\" class=\"dataframe\">\n",
              "  <thead>\n",
              "    <tr style=\"text-align: right;\">\n",
              "      <th></th>\n",
              "      <th>Title</th>\n",
              "      <th>Genres</th>\n",
              "      <th>Gender</th>\n",
              "      <th>Zip-code</th>\n",
              "      <th>UserID</th>\n",
              "      <th>Age</th>\n",
              "      <th>Occupation</th>\n",
              "      <th>MovieID</th>\n",
              "      <th>Rating</th>\n",
              "      <th>Timestamp</th>\n",
              "    </tr>\n",
              "  </thead>\n",
              "  <tbody>\n",
              "    <tr>\n",
              "      <th>0</th>\n",
              "      <td>2452</td>\n",
              "      <td>239</td>\n",
              "      <td>0</td>\n",
              "      <td>1429</td>\n",
              "      <td>1</td>\n",
              "      <td>1</td>\n",
              "      <td>10</td>\n",
              "      <td>1193</td>\n",
              "      <td>5</td>\n",
              "      <td>978300760</td>\n",
              "    </tr>\n",
              "    <tr>\n",
              "      <th>1</th>\n",
              "      <td>1739</td>\n",
              "      <td>152</td>\n",
              "      <td>0</td>\n",
              "      <td>1429</td>\n",
              "      <td>1</td>\n",
              "      <td>1</td>\n",
              "      <td>10</td>\n",
              "      <td>661</td>\n",
              "      <td>3</td>\n",
              "      <td>978302109</td>\n",
              "    </tr>\n",
              "    <tr>\n",
              "      <th>2</th>\n",
              "      <td>2289</td>\n",
              "      <td>282</td>\n",
              "      <td>0</td>\n",
              "      <td>1429</td>\n",
              "      <td>1</td>\n",
              "      <td>1</td>\n",
              "      <td>10</td>\n",
              "      <td>914</td>\n",
              "      <td>3</td>\n",
              "      <td>978301968</td>\n",
              "    </tr>\n",
              "    <tr>\n",
              "      <th>3</th>\n",
              "      <td>1054</td>\n",
              "      <td>239</td>\n",
              "      <td>0</td>\n",
              "      <td>1429</td>\n",
              "      <td>1</td>\n",
              "      <td>1</td>\n",
              "      <td>10</td>\n",
              "      <td>3408</td>\n",
              "      <td>4</td>\n",
              "      <td>978300275</td>\n",
              "    </tr>\n",
              "    <tr>\n",
              "      <th>4</th>\n",
              "      <td>557</td>\n",
              "      <td>145</td>\n",
              "      <td>0</td>\n",
              "      <td>1429</td>\n",
              "      <td>1</td>\n",
              "      <td>1</td>\n",
              "      <td>10</td>\n",
              "      <td>2355</td>\n",
              "      <td>5</td>\n",
              "      <td>978824291</td>\n",
              "    </tr>\n",
              "  </tbody>\n",
              "</table>\n",
              "</div>"
            ],
            "text/plain": [
              "   Title  Genres  Gender  Zip-code  ...  Occupation  MovieID  Rating  Timestamp\n",
              "0   2452     239       0      1429  ...          10     1193       5  978300760\n",
              "1   1739     152       0      1429  ...          10      661       3  978302109\n",
              "2   2289     282       0      1429  ...          10      914       3  978301968\n",
              "3   1054     239       0      1429  ...          10     3408       4  978300275\n",
              "4    557     145       0      1429  ...          10     2355       5  978824291\n",
              "\n",
              "[5 rows x 10 columns]"
            ]
          },
          "metadata": {
            "tags": []
          },
          "execution_count": 131
        }
      ]
    },
    {
      "cell_type": "code",
      "metadata": {
        "id": "8Hkgs0SZF4bV",
        "colab_type": "code",
        "colab": {
          "base_uri": "https://localhost:8080/",
          "height": 191
        },
        "outputId": "a99cc18f-b82c-4116-e3d6-796e747562ec"
      },
      "source": [
        "corr = le_df.corr()\n",
        "corr.head()"
      ],
      "execution_count": null,
      "outputs": [
        {
          "output_type": "execute_result",
          "data": {
            "text/html": [
              "<div>\n",
              "<style scoped>\n",
              "    .dataframe tbody tr th:only-of-type {\n",
              "        vertical-align: middle;\n",
              "    }\n",
              "\n",
              "    .dataframe tbody tr th {\n",
              "        vertical-align: top;\n",
              "    }\n",
              "\n",
              "    .dataframe thead th {\n",
              "        text-align: right;\n",
              "    }\n",
              "</style>\n",
              "<table border=\"1\" class=\"dataframe\">\n",
              "  <thead>\n",
              "    <tr style=\"text-align: right;\">\n",
              "      <th></th>\n",
              "      <th>Title</th>\n",
              "      <th>Genres</th>\n",
              "      <th>Gender</th>\n",
              "      <th>Zip-code</th>\n",
              "      <th>UserID</th>\n",
              "      <th>Age</th>\n",
              "      <th>Occupation</th>\n",
              "      <th>MovieID</th>\n",
              "      <th>Rating</th>\n",
              "      <th>Timestamp</th>\n",
              "    </tr>\n",
              "  </thead>\n",
              "  <tbody>\n",
              "    <tr>\n",
              "      <th>Title</th>\n",
              "      <td>1.000000</td>\n",
              "      <td>-0.063523</td>\n",
              "      <td>0.000972</td>\n",
              "      <td>0.003718</td>\n",
              "      <td>-0.000375</td>\n",
              "      <td>-0.008961</td>\n",
              "      <td>-0.000030</td>\n",
              "      <td>-0.015053</td>\n",
              "      <td>0.012247</td>\n",
              "      <td>-0.001234</td>\n",
              "    </tr>\n",
              "    <tr>\n",
              "      <th>Genres</th>\n",
              "      <td>-0.063523</td>\n",
              "      <td>1.000000</td>\n",
              "      <td>-0.073500</td>\n",
              "      <td>-0.014125</td>\n",
              "      <td>0.004665</td>\n",
              "      <td>0.059269</td>\n",
              "      <td>-0.015023</td>\n",
              "      <td>0.029295</td>\n",
              "      <td>0.060061</td>\n",
              "      <td>0.016395</td>\n",
              "    </tr>\n",
              "    <tr>\n",
              "      <th>Gender</th>\n",
              "      <td>0.000972</td>\n",
              "      <td>-0.073500</td>\n",
              "      <td>1.000000</td>\n",
              "      <td>-0.015056</td>\n",
              "      <td>-0.035042</td>\n",
              "      <td>-0.003189</td>\n",
              "      <td>0.114974</td>\n",
              "      <td>0.021626</td>\n",
              "      <td>-0.019861</td>\n",
              "      <td>0.022001</td>\n",
              "    </tr>\n",
              "    <tr>\n",
              "      <th>Zip-code</th>\n",
              "      <td>0.003718</td>\n",
              "      <td>-0.014125</td>\n",
              "      <td>-0.015056</td>\n",
              "      <td>1.000000</td>\n",
              "      <td>-0.044845</td>\n",
              "      <td>0.003513</td>\n",
              "      <td>0.035743</td>\n",
              "      <td>0.000758</td>\n",
              "      <td>0.000776</td>\n",
              "      <td>0.028769</td>\n",
              "    </tr>\n",
              "    <tr>\n",
              "      <th>UserID</th>\n",
              "      <td>-0.000375</td>\n",
              "      <td>0.004665</td>\n",
              "      <td>-0.035042</td>\n",
              "      <td>-0.044845</td>\n",
              "      <td>1.000000</td>\n",
              "      <td>0.034688</td>\n",
              "      <td>-0.026698</td>\n",
              "      <td>-0.017739</td>\n",
              "      <td>0.012303</td>\n",
              "      <td>-0.843524</td>\n",
              "    </tr>\n",
              "  </tbody>\n",
              "</table>\n",
              "</div>"
            ],
            "text/plain": [
              "             Title    Genres    Gender  ...   MovieID    Rating  Timestamp\n",
              "Title     1.000000 -0.063523  0.000972  ... -0.015053  0.012247  -0.001234\n",
              "Genres   -0.063523  1.000000 -0.073500  ...  0.029295  0.060061   0.016395\n",
              "Gender    0.000972 -0.073500  1.000000  ...  0.021626 -0.019861   0.022001\n",
              "Zip-code  0.003718 -0.014125 -0.015056  ...  0.000758  0.000776   0.028769\n",
              "UserID   -0.000375  0.004665 -0.035042  ... -0.017739  0.012303  -0.843524\n",
              "\n",
              "[5 rows x 10 columns]"
            ]
          },
          "metadata": {
            "tags": []
          },
          "execution_count": 132
        }
      ]
    },
    {
      "cell_type": "code",
      "metadata": {
        "id": "5XwvcaNAGOAP",
        "colab_type": "code",
        "colab": {
          "base_uri": "https://localhost:8080/",
          "height": 718
        },
        "outputId": "f2cadf39-0b27-4ea2-bb80-444a9e42845b"
      },
      "source": [
        "mask = np.zeros_like(corr, dtype=np.bool)\n",
        "mask[np.triu_indices_from(mask)] = True\n",
        "f, ax = plt.subplots(figsize=(15,15))\n",
        "cmap = sns.diverging_palette(220, 10, as_cmap=True)\n",
        "\n",
        "svm = sns.heatmap(corr, mask=mask, cmap=cmap, center=0,\n",
        "            square=True, linewidths=.5, cbar_kws={\"shrink\": .5})\n",
        "figure = svm.get_figure()"
      ],
      "execution_count": null,
      "outputs": [
        {
          "output_type": "display_data",
          "data": {
            "image/png": "[encoded data removed]",
            "text/plain": [
              "<Figure size 1080x1080 with 2 Axes>"
            ]
          },
          "metadata": {
            "tags": [],
            "needs_background": "light"
          }
        }
      ]
    },
    {
      "cell_type": "markdown",
      "metadata": {
        "id": "n7HDituU5Suh",
        "colab_type": "text"
      },
      "source": [
        "***Infences:***\n",
        "*   A score closer to 1 or -1 is a positive or negative relationship. A perfect score of 1 is a direct correlation.\n",
        "*  in this heat map very light pink means positive, dark voilet means negative. The stronger the color, the larger the correlation magnitude.\n",
        "*  So by analyzing the above heatmap and correlation matrix ***Timestamp*** and ***Zip-code*** has very negative value ***(-0.843524) ,(-0.044845)*** and it goes on -1 side it negative correlation with other so we can think about to Drop it from dataset because it not contribute much information as comapare to others.\n",
        "\n",
        "*  And also if think about categories of recommendatiomns systems both are not contribute much as we need Because in ***Content Based Filtering*** we needs user related information which relate it to recommend movies and ***Collaborative filtering*** is based on the assumption that people who agreed in the past will agree in the future and that they will like similar kind of objects as they liked in the past So according to this scenario we don\"t need these features.\n",
        "*  Features needed **Collaborative filtering***: in this we recommend movies on the basis of ratings provided by user or the similarty of user and we need contains only those features that provide information about the users(i.e.**UserID, Age, User_Rating, Occupation, Gender, Zip-code**)\n",
        "*  **Content Based filtering**: In this we recommend movies to user on the basis of past history of user and content that it has.In this the algorithm will simply pick an item which similar content to recommender.So in this we need only those features who related to a particular user(i.e. **UserID, MovieID, Title, Genres, Ratings**)"
      ]
    },
    {
      "cell_type": "markdown",
      "metadata": {
        "colab_type": "text",
        "id": "Hr7RzOBp4qbq"
      },
      "source": [
        "***1. What does the data mean?***"
      ]
    },
    {
      "cell_type": "markdown",
      "metadata": {
        "id": "KSFS0p2y52tY",
        "colab_type": "text"
      },
      "source": [
        "It is MovieLens 1M Dataset provided by **Grouplenc.org.**\n",
        "here 1,000,209 user ratings of 3883 movies \n",
        "made by 6,040 users.\n",
        "\n",
        "Here we have 3 diffrent datasets:\n",
        "* **Movies Dataset:** It contains following columns\n",
        "  *  MovieID: Each movies has a Unique ID \n",
        "  *  Title: Titles(Name) of Movies\n",
        "  *  Genres: Category of Movies(like: Drama, Comedy, Action etc..)\n",
        "  *  **Shape** : (3883,3)\n",
        "\n",
        "* **User Datasets:** It Contains following\n",
        "  *  UserID: Each user who rate the movies has an unique ID\n",
        "  *  Age: Age of user (*1*:\"Under 18\", *18*:\"18-24\", *25*:\"25-34\", *35*:\"35-44\", *45*:\"45-49\", *50*:\"50-55, *56*:\"56+\")\n",
        "  *  Gender: User'Gender(M or F)\n",
        "  *  Occupation: It ranges(0-20) each number has represent Occupation of a particular of a User\n",
        "  *   Zip-code: Area or Zip code of a user\n",
        "  *  **Shape:** (6040,5)\n",
        "\n",
        "* **Rating Datasets:**\n",
        "  *  UserIDs: ranges(1 to 6040)\n",
        "  *  MovieIDs: range between 1 and 3952\n",
        "  *  Ratings:   1-5-star rating by user\n",
        "  *  Timestamp: Represented the time mentioned in seconds when the rating was provided\n",
        "  *  **Shape:** (1000209,4)\n",
        "\n",
        "\n",
        "*  All these datasets merge in dataframe based on common column between them,merged datasets **Shape** is **(1000209,10)**\n",
        "    *  so by using this large dataset we train our model\n",
        "    and apply it to make a good recommendation system\n",
        "It shows that one user rate more tFhen one movies so these rows increased\n",
        "    *  By above analysis the User most like **Drama** and **Comedy** Genres's Movies.\n",
        "\n",
        "    *  And there is school/grade_student watched the movies mostly.\n",
        "\n"
      ]
    },
    {
      "cell_type": "markdown",
      "metadata": {
        "id": "Uk5UE06YGIWd",
        "colab_type": "text"
      },
      "source": [
        "# CBF-ITEM BASED\n"
      ]
    },
    {
      "cell_type": "markdown",
      "metadata": {
        "id": "l1pSSmosT8s0",
        "colab_type": "text"
      },
      "source": [
        "***MODEL BASED APPROACH***\n",
        " *  ***Using NearestNeighbours(sklearn)***"
      ]
    },
    {
      "cell_type": "code",
      "metadata": {
        "id": "fKrHV77nT72d",
        "colab_type": "code",
        "colab": {
          "base_uri": "https://localhost:8080/",
          "height": 196
        },
        "outputId": "0720eee5-09d3-42ee-c27f-e4ca20353ea1"
      },
      "source": [
        "from sklearn.neighbors import NearestNeighbors\n",
        "from scipy.sparse import csr_matrix\n",
        "\n",
        "pivot_table=df.pivot_table(index='Title',columns='UserID',values='Rating').fillna(0)\n",
        "movie_dfm = csr_matrix(pivot_table.values)\n",
        "\n",
        "print(\"TRAINING THE MODEL\",'\\n')\n",
        "model_knn = NearestNeighbors(metric = 'cosine', algorithm = 'brute')\n",
        "model_knn.fit(movie_dfm)\n",
        "print(\"DONE TRAINING THE MODEL\", '\\n')\n",
        "\n",
        "# qi = np.random.choice(movie_dfm.shape[0])\n",
        "\n",
        "distances, indices = model_knn.kneighbors(pivot_table.iloc[1,:].values.reshape(1, -1), n_neighbors = 5)\n",
        "\n",
        "print('Similar Movies like :',qi, 'MoviID')\n",
        "for i in range(0, len(distances.flatten())):\n",
        "    if i == 0:\n",
        "        print('Recommendations for {0}:\\n'.format(pivot_table.index[qi]))\n",
        "    else:\n",
        "        print('{0}: {1}, with distance of {2}:'.format(i, pivot_table.index[indices.flatten()[i]], distances.flatten()[i]))"
      ],
      "execution_count": null,
      "outputs": [
        {
          "output_type": "stream",
          "text": [
            "TRAINING THE MODEL \n",
            "\n",
            "DONE TRAINING THE MODEL \n",
            "\n",
            "Similar Movies like : 81 MoviID\n",
            "Recommendations for Air Up There, The (1994):\n",
            "\n",
            "1: Cool Runnings (1993), with distance of 0.699259944003483:\n",
            "2: With Honors (1994), with distance of 0.7160687573357519:\n",
            "3: Richie Rich (1994), with distance of 0.7207744555502189:\n",
            "4: Encino Man (1992), with distance of 0.7212004728104829:\n"
          ],
          "name": "stdout"
        }
      ]
    },
    {
      "cell_type": "markdown",
      "metadata": {
        "id": "DjvUx2mqW_D1",
        "colab_type": "text"
      },
      "source": [
        "***Comparing Performance Of different KNN algorithms***"
      ]
    },
    {
      "cell_type": "code",
      "metadata": {
        "id": "J_ga6UvrXCvL",
        "colab_type": "code",
        "colab": {
          "base_uri": "https://localhost:8080/",
          "height": 895
        },
        "outputId": "802e6cda-ac84-4644-ed84-8df5aa6a4f84"
      },
      "source": [
        "from surprise import Reader, Dataset ,KNNWithMeans,KNNBaseline,KNNBasic\n",
        "\n",
        "reader = Reader(rating_scale=(1,5))  \n",
        "data = Dataset.load_from_df(ratings[['UserID', 'MovieID', 'Rating']], reader)\n",
        "\n",
        "\n",
        "methods = {'name':'cosine','user_based': False}\n",
        "KNN_Means  = KNNWithMeans(sim_options=methods)\n",
        "KNN_Baseline = KNNBaseline(sim_options=methods)\n",
        "KNN_Basic = KNNBasic(sim_options=methods)\n",
        "l=[KNN_Means,KNN_Baseline,KNN_Basic]\n",
        "for i in l:\n",
        "  print(\"CROSS VALIDATING THE DATASET - \" ,i, '\\n')\n",
        "  model_selection.cross_validate(i, data, measures=['rmse','MAE'],cv=3, verbose=True)\n",
        "  print(\"DONE CROSS VALIDATING THE DATASET\",'\\n')"
      ],
      "execution_count": null,
      "outputs": [
        {
          "output_type": "stream",
          "text": [
            "CROSS VALIDATING THE DATASET -  <surprise.prediction_algorithms.knns.KNNWithMeans object at 0x7f46995e9a20> \n",
            "\n",
            "Computing the cosine similarity matrix...\n",
            "Done computing similarity matrix.\n",
            "Computing the cosine similarity matrix...\n",
            "Done computing similarity matrix.\n",
            "Computing the cosine similarity matrix...\n",
            "Done computing similarity matrix.\n",
            "Evaluating RMSE, MAE of algorithm KNNWithMeans on 3 split(s).\n",
            "\n",
            "                  Fold 1  Fold 2  Fold 3  Mean    Std     \n",
            "RMSE (testset)    0.8992  0.8992  0.8992  0.8992  0.0000  \n",
            "MAE (testset)     0.7070  0.7074  0.7068  0.7070  0.0002  \n",
            "Fit time          16.72   17.24   17.37   17.11   0.28    \n",
            "Test time         93.67   92.58   94.28   93.51   0.70    \n",
            "DONE CROSS VALIDATING THE DATASET \n",
            "\n",
            "CROSS VALIDATING THE DATASET -  <surprise.prediction_algorithms.knns.KNNBaseline object at 0x7f46976cca58> \n",
            "\n",
            "Estimating biases using als...\n",
            "Computing the cosine similarity matrix...\n",
            "Done computing similarity matrix.\n",
            "Estimating biases using als...\n",
            "Computing the cosine similarity matrix...\n",
            "Done computing similarity matrix.\n",
            "Estimating biases using als...\n",
            "Computing the cosine similarity matrix...\n",
            "Done computing similarity matrix.\n",
            "Evaluating RMSE, MAE of algorithm KNNBaseline on 3 split(s).\n",
            "\n",
            "                  Fold 1  Fold 2  Fold 3  Mean    Std     \n",
            "RMSE (testset)    0.8999  0.8988  0.9003  0.8997  0.0007  \n",
            "MAE (testset)     0.7088  0.7078  0.7085  0.7083  0.0004  \n",
            "Fit time          20.11   19.95   20.27   20.11   0.13    \n",
            "Test time         103.79  101.35  101.91  102.35  1.04    \n",
            "DONE CROSS VALIDATING THE DATASET \n",
            "\n",
            "CROSS VALIDATING THE DATASET -  <surprise.prediction_algorithms.knns.KNNBasic object at 0x7f46976cca20> \n",
            "\n",
            "Computing the cosine similarity matrix...\n",
            "Done computing similarity matrix.\n",
            "Computing the cosine similarity matrix...\n",
            "Done computing similarity matrix.\n",
            "Computing the cosine similarity matrix...\n",
            "Done computing similarity matrix.\n",
            "Evaluating RMSE, MAE of algorithm KNNBasic on 3 split(s).\n",
            "\n",
            "                  Fold 1  Fold 2  Fold 3  Mean    Std     \n",
            "RMSE (testset)    1.0048  1.0015  1.0027  1.0030  0.0014  \n",
            "MAE (testset)     0.7875  0.7843  0.7857  0.7858  0.0013  \n",
            "Fit time          16.59   16.89   16.84   16.77   0.13    \n",
            "Test time         88.64   89.62   90.08   89.44   0.60    \n",
            "DONE CROSS VALIDATING THE DATASET \n",
            "\n"
          ],
          "name": "stdout"
        }
      ]
    },
    {
      "cell_type": "markdown",
      "metadata": {
        "id": "Lnzx0XLulDo3",
        "colab_type": "text"
      },
      "source": [
        "***Performance of KNNwithmeans and KNNBaseline are almost same, So here we decided to perform recommendation using KNNwithmeans***"
      ]
    },
    {
      "cell_type": "code",
      "metadata": {
        "id": "1_0CWFXl0Zif",
        "colab_type": "code",
        "colab": {
          "base_uri": "https://localhost:8080/",
          "height": 98
        },
        "outputId": "a5e04ddf-aca4-42fe-ba4b-1bd86bad8ad7"
      },
      "source": [
        "#Train KNNwithmeans\n",
        "\n",
        "print(\"TRAINING THE MODEL\")\n",
        "trainset = data.build_full_trainset()\n",
        "KNN_Means.fit(trainset)\n",
        "print(\"DONE TRAINING THE MODEL\", '\\n')"
      ],
      "execution_count": null,
      "outputs": [
        {
          "output_type": "stream",
          "text": [
            "TRAINING THE MODEL\n",
            "Computing the cosine similarity matrix...\n",
            "Done computing similarity matrix.\n",
            "DONE TRAINING THE MODEL \n",
            "\n"
          ],
          "name": "stdout"
        }
      ]
    },
    {
      "cell_type": "code",
      "metadata": {
        "id": "XkWOT6MX32Nu",
        "colab_type": "code",
        "colab": {}
      },
      "source": [
        "testset = trainset.build_anti_testset()\n",
        "predictions=KNN_Means.test(testset)"
      ],
      "execution_count": null,
      "outputs": []
    },
    {
      "cell_type": "code",
      "metadata": {
        "id": "5fY-bRTD2Mk6",
        "colab_type": "code",
        "colab": {}
      },
      "source": [
        "def rec(name):\n",
        "  f=movies.loc[movies[(movies.Title==name)].index].MovieID.tolist()\n",
        "  h=KNN_Means.get_neighbors(f,10)\n",
        "  k=movies.loc[movies[(movies.MovieID.isin(h))].index]\n",
        "  return k\n",
        "rec('Toy Story (1995)')"
      ],
      "execution_count": null,
      "outputs": []
    },
    {
      "cell_type": "markdown",
      "metadata": {
        "id": "sZ6VSVGWWJE_",
        "colab_type": "text"
      },
      "source": [
        "**Memory based Approach**  \n",
        "* ***Using cosine similarity***"
      ]
    },
    {
      "cell_type": "code",
      "metadata": {
        "id": "srB6gcHXGK5L",
        "colab_type": "code",
        "colab": {
          "base_uri": "https://localhost:8080/",
          "height": 180
        },
        "outputId": "1c61a2d0-0b6a-45e2-9ab8-c7ef3fc0e9d9"
      },
      "source": [
        "pivot2= pivot_table.apply(lambda x: x - np.nanmean(x), axis=1)\n",
        "item_sim_df = pd.DataFrame(cosine_similarity(pivot2, pivot2), index=pivot2.index, columns=pivot2.index)\n",
        "item_sim_df.head()\n",
        "\n",
        "\n",
        "def get_similar_movie(Movie_name):\n",
        "    if Movie_name not in pivot2.index:\n",
        "        return None, None\n",
        "    else:\n",
        "        sim_movies = item_sim_df.sort_values(by=Movie_name, ascending=False).index[:]\n",
        "        sim_score = item_sim_df.sort_values(by=Movie_name, ascending=False).loc[:, Movie_name].tolist()[1:]\n",
        "        return sim_movies, sim_score\n",
        "\n",
        "movies, score = get_similar_movie(\"'Til There Was You (1997)\")\n",
        "for x,y in zip(movies[:10], score[:10]):\n",
        "  print(x,'-',y)"
      ],
      "execution_count": null,
      "outputs": [
        {
          "output_type": "stream",
          "text": [
            "If Lucy Fell (1996) - 0.26732069622998056\n",
            "Picture Perfect (1997) - 0.2557154439632222\n",
            "To Gillian on Her 37th Birthday (1996) - 0.24105461392120084\n",
            "Mad Love (1995) - 0.23132587558582302\n",
            "Practical Magic (1998) - 0.22960163873809433\n",
            "Something to Talk About (1995) - 0.22618112973033752\n",
            "Circle of Friends (1995) - 0.22073534764102024\n",
            "Beautician and the Beast, The (1997) - 0.22071668366822336\n",
            "Evening Star, The (1996) - 0.2206349626920143\n",
            "How to Make an American Quilt (1995) - 0.21623572955474876\n"
          ],
          "name": "stdout"
        }
      ]
    },
    {
      "cell_type": "markdown",
      "metadata": {
        "id": "Lpdfi9NgGpqh",
        "colab_type": "text"
      },
      "source": [
        "# CBF- USER BASED"
      ]
    },
    {
      "cell_type": "markdown",
      "metadata": {
        "id": "0KSUq1ViXW4c",
        "colab_type": "text"
      },
      "source": [
        "***Model Based Approach***"
      ]
    },
    {
      "cell_type": "code",
      "metadata": {
        "id": "rSRypWmIXkE8",
        "colab_type": "code",
        "colab": {
          "base_uri": "https://localhost:8080/",
          "height": 1000
        },
        "outputId": "6b3769fe-427d-42a0-f9d0-004ecf0b1214"
      },
      "source": [
        "reader = Reader(rating_scale=(1,5))  \n",
        "data = Dataset.load_from_df(ratings[['UserID', 'MovieID', 'Rating']], reader)\n",
        "methods = {'name':'cosine','user_based': True}\n",
        "KNN_Means  = KNNWithMeans(sim_options=methods)\n",
        "KNN_Baseline = KNNBaseline(sim_options=methods)\n",
        "KNN_Basic = KNNBasic(sim_options=methods)\n",
        "svd=SVD()\n",
        "l=[svd,KNN_Means,KNN_Baseline,KNN_Basic]\n",
        "for i in l:\n",
        "  print(\"CROSS VALIDATING THE DATASET - \" ,i, '\\n')\n",
        "  model_selection.cross_validate(i, data, measures=['rmse','MAE'],cv=3, verbose=True)\n",
        "  print(\"DONE CROSS VALIDATING THE DATASET\",'\\n')\n",
        "\n",
        "# print(\"TRAINING THE MODEL\")\n",
        "# trainset = data.build_full_trainset()\n",
        "# svd.fit(trainset)\n",
        "# print(\"DONE TRAINING THE MODEL\", '\\n')"
      ],
      "execution_count": null,
      "outputs": [
        {
          "output_type": "stream",
          "text": [
            "CROSS VALIDATING THE DATASET -  <surprise.prediction_algorithms.matrix_factorization.SVD object at 0x7f466562bfd0> \n",
            "\n",
            "Evaluating RMSE, MAE of algorithm SVD on 3 split(s).\n",
            "\n",
            "                  Fold 1  Fold 2  Fold 3  Mean    Std     \n",
            "RMSE (testset)    0.8868  0.8861  0.8858  0.8862  0.0004  \n",
            "MAE (testset)     0.6967  0.6963  0.6964  0.6965  0.0001  \n",
            "Fit time          40.53   40.39   40.65   40.52   0.11    \n",
            "Test time         4.14    3.84    3.74    3.91    0.17    \n",
            "DONE CROSS VALIDATING THE DATASET \n",
            "\n",
            "CROSS VALIDATING THE DATASET -  <surprise.prediction_algorithms.knns.KNNWithMeans object at 0x7f46668720b8> \n",
            "\n",
            "Computing the cosine similarity matrix...\n",
            "Done computing similarity matrix.\n",
            "Computing the cosine similarity matrix...\n",
            "Done computing similarity matrix.\n",
            "Computing the cosine similarity matrix...\n",
            "Done computing similarity matrix.\n",
            "Evaluating RMSE, MAE of algorithm KNNWithMeans on 3 split(s).\n",
            "\n",
            "                  Fold 1  Fold 2  Fold 3  Mean    Std     \n",
            "RMSE (testset)    0.9416  0.9435  0.9426  0.9426  0.0008  \n",
            "MAE (testset)     0.7490  0.7507  0.7497  0.7498  0.0007  \n",
            "Fit time          56.24   55.06   55.46   55.59   0.49    \n",
            "Test time         192.73  195.72  202.85  197.10  4.25    \n",
            "DONE CROSS VALIDATING THE DATASET \n",
            "\n",
            "CROSS VALIDATING THE DATASET -  <surprise.prediction_algorithms.knns.KNNBaseline object at 0x7f46655f5b70> \n",
            "\n",
            "Estimating biases using als...\n",
            "Computing the cosine similarity matrix...\n",
            "Done computing similarity matrix.\n",
            "Estimating biases using als...\n",
            "Computing the cosine similarity matrix...\n",
            "Done computing similarity matrix.\n",
            "Estimating biases using als...\n",
            "Computing the cosine similarity matrix...\n",
            "Done computing similarity matrix.\n",
            "Evaluating RMSE, MAE of algorithm KNNBaseline on 3 split(s).\n",
            "\n",
            "                  Fold 1  Fold 2  Fold 3  Mean    Std     \n",
            "RMSE (testset)    0.9067  0.9068  0.9042  0.9059  0.0012  \n",
            "MAE (testset)     0.7170  0.7171  0.7149  0.7163  0.0010  \n",
            "Fit time          60.32   58.40   61.55   60.09   1.30    \n",
            "Test time         215.02  213.88  224.16  217.69  4.60    \n",
            "DONE CROSS VALIDATING THE DATASET \n",
            "\n",
            "CROSS VALIDATING THE DATASET -  <surprise.prediction_algorithms.knns.KNNBasic object at 0x7f466562b908> \n",
            "\n",
            "Computing the cosine similarity matrix...\n",
            "Done computing similarity matrix.\n",
            "Computing the cosine similarity matrix...\n",
            "Done computing similarity matrix.\n",
            "Computing the cosine similarity matrix...\n",
            "Done computing similarity matrix.\n",
            "Evaluating RMSE, MAE of algorithm KNNBasic on 3 split(s).\n",
            "\n",
            "                  Fold 1  Fold 2  Fold 3  Mean    Std     \n",
            "RMSE (testset)    0.9799  0.9789  0.9777  0.9788  0.0009  \n",
            "MAE (testset)     0.7744  0.7735  0.7731  0.7737  0.0005  \n",
            "Fit time          55.11   52.43   55.78   54.44   1.45    \n",
            "Test time         201.86  194.88  203.14  199.96  3.63    \n",
            "DONE CROSS VALIDATING THE DATASET \n",
            "\n"
          ],
          "name": "stdout"
        }
      ]
    },
    {
      "cell_type": "markdown",
      "metadata": {
        "id": "fr8LnUKfsyi8",
        "colab_type": "text"
      },
      "source": [
        "***The performance of SVD algorithm is too good as compare to other alogorithms, So here we perform recommendation using SVD***"
      ]
    },
    {
      "cell_type": "code",
      "metadata": {
        "id": "9t3Pj-zYbYGA",
        "colab_type": "code",
        "colab": {}
      },
      "source": [
        "testset = trainset.build_anti_testset()\n",
        "predictions = svd.test(testset)\n",
        "svdp=pd.DataFrame(predictions)\n",
        "svd.to_csv('/content/sample_data/svdp')"
      ],
      "execution_count": null,
      "outputs": []
    },
    {
      "cell_type": "code",
      "metadata": {
        "id": "dpalQG5PuWK5",
        "colab_type": "code",
        "colab": {}
      },
      "source": [
        "#predict rating\n",
        "y=[]\n",
        "for i in range(1,6040):\n",
        "  for j in range(1,3700):\n",
        "    y.append(svd.predict(uid=i, iid=j, r_ui=1))\n",
        "len(y)\n",
        "\n",
        "e=pd.DataFrame(y)\n",
        "e.head()"
      ],
      "execution_count": null,
      "outputs": []
    },
    {
      "cell_type": "code",
      "metadata": {
        "id": "WPRVjVMvwLjC",
        "colab_type": "code",
        "colab": {}
      },
      "source": [
        "e=pd.read_csv('/content/drive/My Drive/datasets/svd_p.csv')  ##Predicted rating dataframe by SVD"
      ],
      "execution_count": null,
      "outputs": []
    },
    {
      "cell_type": "code",
      "metadata": {
        "id": "2urFy9EWGzCW",
        "colab_type": "code",
        "colab": {
          "base_uri": "https://localhost:8080/",
          "height": 248
        },
        "outputId": "c19bef51-5a1c-4a20-abeb-0204143f2d32"
      },
      "source": [
        "def recommend(userid_, n=20): #Recommend Top N movies to user\n",
        "  f=e.loc[e[(e.uid==userid_)].est.sort_values(ascending=False).index][:10].iid.tolist()\n",
        "  p=movies.loc[movies[movies.MovieID.isin(f)].index]\n",
        "  k = ratings.loc[ratings[(ratings.UserID==userid_)].index]['MovieID'].tolist()\n",
        "  return p.loc[p[~p.MovieID.isin(k)].index]\n",
        "  #return p\n",
        "recommend(5, 10)"
      ],
      "execution_count": null,
      "outputs": [
        {
          "output_type": "execute_result",
          "data": {
            "text/html": [
              "<div>\n",
              "<style scoped>\n",
              "    .dataframe tbody tr th:only-of-type {\n",
              "        vertical-align: middle;\n",
              "    }\n",
              "\n",
              "    .dataframe tbody tr th {\n",
              "        vertical-align: top;\n",
              "    }\n",
              "\n",
              "    .dataframe thead th {\n",
              "        text-align: right;\n",
              "    }\n",
              "</style>\n",
              "<table border=\"1\" class=\"dataframe\">\n",
              "  <thead>\n",
              "    <tr style=\"text-align: right;\">\n",
              "      <th></th>\n",
              "      <th>MovieID</th>\n",
              "      <th>Title</th>\n",
              "      <th>Genres</th>\n",
              "    </tr>\n",
              "  </thead>\n",
              "  <tbody>\n",
              "    <tr>\n",
              "      <th>243</th>\n",
              "      <td>246</td>\n",
              "      <td>Hoop Dreams (1994)</td>\n",
              "      <td>Documentary</td>\n",
              "    </tr>\n",
              "    <tr>\n",
              "      <th>740</th>\n",
              "      <td>750</td>\n",
              "      <td>Dr. Strangelove or: How I Learned to Stop Worr...</td>\n",
              "      <td>Sci-Fi|War</td>\n",
              "    </tr>\n",
              "    <tr>\n",
              "      <th>1162</th>\n",
              "      <td>1178</td>\n",
              "      <td>Paths of Glory (1957)</td>\n",
              "      <td>Drama|War</td>\n",
              "    </tr>\n",
              "    <tr>\n",
              "      <th>1181</th>\n",
              "      <td>1199</td>\n",
              "      <td>Brazil (1985)</td>\n",
              "      <td>Sci-Fi</td>\n",
              "    </tr>\n",
              "    <tr>\n",
              "      <th>1194</th>\n",
              "      <td>1212</td>\n",
              "      <td>Third Man, The (1949)</td>\n",
              "      <td>Mystery|Thriller</td>\n",
              "    </tr>\n",
              "    <tr>\n",
              "      <th>1950</th>\n",
              "      <td>2019</td>\n",
              "      <td>Seven Samurai (The Magnificent Seven) (Shichin...</td>\n",
              "      <td>Action|Drama</td>\n",
              "    </tr>\n",
              "    <tr>\n",
              "      <th>3360</th>\n",
              "      <td>3429</td>\n",
              "      <td>Creature Comforts (1990)</td>\n",
              "      <td>Animation|Comedy</td>\n",
              "    </tr>\n",
              "  </tbody>\n",
              "</table>\n",
              "</div>"
            ],
            "text/plain": [
              "      MovieID  ...            Genres\n",
              "243       246  ...       Documentary\n",
              "740       750  ...        Sci-Fi|War\n",
              "1162     1178  ...         Drama|War\n",
              "1181     1199  ...            Sci-Fi\n",
              "1194     1212  ...  Mystery|Thriller\n",
              "1950     2019  ...      Action|Drama\n",
              "3360     3429  ...  Animation|Comedy\n",
              "\n",
              "[7 rows x 3 columns]"
            ]
          },
          "metadata": {
            "tags": []
          },
          "execution_count": 34
        }
      ]
    },
    {
      "cell_type": "markdown",
      "metadata": {
        "id": "cmArgby5G0r0",
        "colab_type": "text"
      },
      "source": [
        "# CONTENT BASED"
      ]
    },
    {
      "cell_type": "markdown",
      "metadata": {
        "id": "-MebAnB_R6a1",
        "colab_type": "text"
      },
      "source": [
        "***CBF Using TF-IDF Vectorizer*** "
      ]
    },
    {
      "cell_type": "code",
      "metadata": {
        "id": "4BOsADPfG5zD",
        "colab_type": "code",
        "colab": {
          "base_uri": "https://localhost:8080/",
          "height": 351
        },
        "outputId": "d8709132-8969-4568-cf26-d0c938763242"
      },
      "source": [
        "movies['Genres'] = movies['Genres'].str.split('|')  \n",
        "\n",
        "movies['Genres'] = movies['Genres'].fillna(\"\").astype('str')\n",
        "\n",
        "#TfidfVectorizer function from scikit-learn, which transforms text to feature vectors that can be used as input to estimator.\n",
        "from sklearn.feature_extraction.text import TfidfVectorizer  \n",
        "tf = TfidfVectorizer(analyzer='word',ngram_range=(1, 2),min_df=0)\n",
        "matrix = tf.fit_transform(movies['Genres'])\n",
        "matrix.shape\n",
        "\n",
        "from sklearn.metrics.pairwise import linear_kernel\n",
        "csim = linear_kernel(matrix, matrix)\n",
        "csim[:5]\n",
        "\n",
        "\n",
        "\n",
        "titles = movies['Title']\n",
        "indices = pd.Series(movies.index, index=movies['Title'])\n",
        "\n",
        "def c_rec(title):\n",
        "    idx = indices[title]\n",
        "    sim_sc = list(enumerate(csim[idx]))\n",
        "    sim_sc = sorted(sim_sc, key=lambda x: x[1], reverse=True)[1:]\n",
        "    movie_idx = [i[0] for i in sim_sc]\n",
        "    print('Movies Similar to : ',title)\n",
        "    yy=pd.DataFrame(movies.Title.iloc[movie_idx])[:10]\n",
        "    return yy\n",
        "\n",
        "c_rec('Dracula: Dead and Loving It (1995)')   "
      ],
      "execution_count": null,
      "outputs": [
        {
          "output_type": "stream",
          "text": [
            "Movies Similar to :  Dracula: Dead and Loving It (1995)\n"
          ],
          "name": "stdout"
        },
        {
          "output_type": "execute_result",
          "data": {
            "text/html": [
              "<div>\n",
              "<style scoped>\n",
              "    .dataframe tbody tr th:only-of-type {\n",
              "        vertical-align: middle;\n",
              "    }\n",
              "\n",
              "    .dataframe tbody tr th {\n",
              "        vertical-align: top;\n",
              "    }\n",
              "\n",
              "    .dataframe thead th {\n",
              "        text-align: right;\n",
              "    }\n",
              "</style>\n",
              "<table border=\"1\" class=\"dataframe\">\n",
              "  <thead>\n",
              "    <tr style=\"text-align: right;\">\n",
              "      <th></th>\n",
              "      <th>Title</th>\n",
              "    </tr>\n",
              "  </thead>\n",
              "  <tbody>\n",
              "    <tr>\n",
              "      <th>326</th>\n",
              "      <td>Tales from the Hood (1995)</td>\n",
              "    </tr>\n",
              "    <tr>\n",
              "      <th>726</th>\n",
              "      <td>Cemetery Man (Dellamorte Dellamore) (1994)</td>\n",
              "    </tr>\n",
              "    <tr>\n",
              "      <th>789</th>\n",
              "      <td>Frighteners, The (1996)</td>\n",
              "    </tr>\n",
              "    <tr>\n",
              "      <th>1221</th>\n",
              "      <td>Braindead (1992)</td>\n",
              "    </tr>\n",
              "    <tr>\n",
              "      <th>1235</th>\n",
              "      <td>Bad Taste (1987)</td>\n",
              "    </tr>\n",
              "    <tr>\n",
              "      <th>1258</th>\n",
              "      <td>Young Frankenstein (1974)</td>\n",
              "    </tr>\n",
              "    <tr>\n",
              "      <th>1310</th>\n",
              "      <td>April Fool's Day (1986)</td>\n",
              "    </tr>\n",
              "    <tr>\n",
              "      <th>1409</th>\n",
              "      <td>Machine, The (1994)</td>\n",
              "    </tr>\n",
              "    <tr>\n",
              "      <th>1934</th>\n",
              "      <td>Gremlins (1984)</td>\n",
              "    </tr>\n",
              "    <tr>\n",
              "      <th>1935</th>\n",
              "      <td>Gremlins 2: The New Batch (1990)</td>\n",
              "    </tr>\n",
              "  </tbody>\n",
              "</table>\n",
              "</div>"
            ],
            "text/plain": [
              "                                           Title\n",
              "326                   Tales from the Hood (1995)\n",
              "726   Cemetery Man (Dellamorte Dellamore) (1994)\n",
              "789                      Frighteners, The (1996)\n",
              "1221                            Braindead (1992)\n",
              "1235                            Bad Taste (1987)\n",
              "1258                   Young Frankenstein (1974)\n",
              "1310                     April Fool's Day (1986)\n",
              "1409                         Machine, The (1994)\n",
              "1934                             Gremlins (1984)\n",
              "1935            Gremlins 2: The New Batch (1990)"
            ]
          },
          "metadata": {
            "tags": []
          },
          "execution_count": 34
        }
      ]
    },
    {
      "cell_type": "markdown",
      "metadata": {
        "id": "6PUc7NqQSCSt",
        "colab_type": "text"
      },
      "source": [
        "***CBF Using CountVectorizer***"
      ]
    },
    {
      "cell_type": "code",
      "metadata": {
        "id": "zfzsyNpeSLKG",
        "colab_type": "code",
        "colab": {
          "base_uri": "https://localhost:8080/",
          "height": 351
        },
        "outputId": "f2dd0cff-5612-4cb6-8f7e-643e691763fb"
      },
      "source": [
        "from sklearn.metrics.pairwise import cosine_similarity\n",
        "from sklearn.feature_extraction.text import CountVectorizer\n",
        "\n",
        "cv = CountVectorizer()\n",
        "cv_matrix = cv.fit_transform(movies['Genres'])\n",
        "cosi_sim = cosine_similarity(cv_matrix, cv_matrix)\n",
        "\n",
        "titles = movies['Title']\n",
        "indices = pd.Series(movies.index, index=movies['Title'])\n",
        "\n",
        "\n",
        "def recommend(title):\n",
        "  idx = indices[title]\n",
        "  sim_sc = list(enumerate(cosi_sim[idx]))\n",
        "  sim_sc = sorted(sim_sc, key=lambda x: x[1], reverse=True)[1:11]\n",
        "  movie_indices = [i[0] for i in sim_sc]\n",
        "  print(\"Movies similar to ==>\",title,\"are\")\n",
        "  gg=pd.DataFrame(movies['Title'].iloc[movie_indices])\n",
        "  return gg\n",
        "\n",
        "\n",
        "recommend('Toy Story (1995)')\n"
      ],
      "execution_count": null,
      "outputs": [
        {
          "output_type": "stream",
          "text": [
            "Movies similar to ==> Toy Story (1995) are\n"
          ],
          "name": "stdout"
        },
        {
          "output_type": "execute_result",
          "data": {
            "text/html": [
              "<div>\n",
              "<style scoped>\n",
              "    .dataframe tbody tr th:only-of-type {\n",
              "        vertical-align: middle;\n",
              "    }\n",
              "\n",
              "    .dataframe tbody tr th {\n",
              "        vertical-align: top;\n",
              "    }\n",
              "\n",
              "    .dataframe thead th {\n",
              "        text-align: right;\n",
              "    }\n",
              "</style>\n",
              "<table border=\"1\" class=\"dataframe\">\n",
              "  <thead>\n",
              "    <tr style=\"text-align: right;\">\n",
              "      <th></th>\n",
              "      <th>Title</th>\n",
              "    </tr>\n",
              "  </thead>\n",
              "  <tbody>\n",
              "    <tr>\n",
              "      <th>1050</th>\n",
              "      <td>Aladdin and the King of Thieves (1996)</td>\n",
              "    </tr>\n",
              "    <tr>\n",
              "      <th>2072</th>\n",
              "      <td>American Tail, An (1986)</td>\n",
              "    </tr>\n",
              "    <tr>\n",
              "      <th>2073</th>\n",
              "      <td>American Tail: Fievel Goes West, An (1991)</td>\n",
              "    </tr>\n",
              "    <tr>\n",
              "      <th>2285</th>\n",
              "      <td>Rugrats Movie, The (1998)</td>\n",
              "    </tr>\n",
              "    <tr>\n",
              "      <th>2286</th>\n",
              "      <td>Bug's Life, A (1998)</td>\n",
              "    </tr>\n",
              "    <tr>\n",
              "      <th>3045</th>\n",
              "      <td>Toy Story 2 (1999)</td>\n",
              "    </tr>\n",
              "    <tr>\n",
              "      <th>3542</th>\n",
              "      <td>Saludos Amigos (1943)</td>\n",
              "    </tr>\n",
              "    <tr>\n",
              "      <th>3682</th>\n",
              "      <td>Chicken Run (2000)</td>\n",
              "    </tr>\n",
              "    <tr>\n",
              "      <th>3685</th>\n",
              "      <td>Adventures of Rocky and Bullwinkle, The (2000)</td>\n",
              "    </tr>\n",
              "    <tr>\n",
              "      <th>236</th>\n",
              "      <td>Goofy Movie, A (1995)</td>\n",
              "    </tr>\n",
              "  </tbody>\n",
              "</table>\n",
              "</div>"
            ],
            "text/plain": [
              "                                               Title\n",
              "1050          Aladdin and the King of Thieves (1996)\n",
              "2072                        American Tail, An (1986)\n",
              "2073      American Tail: Fievel Goes West, An (1991)\n",
              "2285                       Rugrats Movie, The (1998)\n",
              "2286                            Bug's Life, A (1998)\n",
              "3045                              Toy Story 2 (1999)\n",
              "3542                           Saludos Amigos (1943)\n",
              "3682                              Chicken Run (2000)\n",
              "3685  Adventures of Rocky and Bullwinkle, The (2000)\n",
              "236                            Goofy Movie, A (1995)"
            ]
          },
          "metadata": {
            "tags": []
          },
          "execution_count": 35
        }
      ]
    },
    {
      "cell_type": "code",
      "metadata": {
        "id": "fPKViINZfmfo",
        "colab_type": "code",
        "colab": {}
      },
      "source": [
        ""
      ],
      "execution_count": null,
      "outputs": []
    }
  ]
}