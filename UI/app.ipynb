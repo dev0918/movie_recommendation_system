{
 "cells": [
  {
   "cell_type": "markdown",
   "metadata": {
    "colab_type": "text",
    "id": "G0kYg-q2dJQc"
   },
   "source": [
    "# New section"
   ]
  },
  {
   "cell_type": "code",
   "execution_count": 1,
   "metadata": {
    "colab": {},
    "colab_type": "code",
    "id": "yWQrKABNqClW"
   },
   "outputs": [
    {
     "name": "stdout",
     "output_type": "stream",
     "text": [
      "Requirement already satisfied: flask_ngrok in /Library/Frameworks/Python.framework/Versions/3.8/lib/python3.8/site-packages (0.0.25)\n",
      "Requirement already satisfied: requests in /Library/Frameworks/Python.framework/Versions/3.8/lib/python3.8/site-packages (from flask_ngrok) (2.27.1)\n",
      "Requirement already satisfied: Flask>=0.8 in /Library/Frameworks/Python.framework/Versions/3.8/lib/python3.8/site-packages (from flask_ngrok) (2.2.2)\n",
      "Requirement already satisfied: Jinja2>=3.0 in /Library/Frameworks/Python.framework/Versions/3.8/lib/python3.8/site-packages (from Flask>=0.8->flask_ngrok) (3.1.1)\n",
      "Requirement already satisfied: importlib-metadata>=3.6.0 in /Library/Frameworks/Python.framework/Versions/3.8/lib/python3.8/site-packages (from Flask>=0.8->flask_ngrok) (4.11.3)\n",
      "Requirement already satisfied: itsdangerous>=2.0 in /Library/Frameworks/Python.framework/Versions/3.8/lib/python3.8/site-packages (from Flask>=0.8->flask_ngrok) (2.1.2)\n",
      "Requirement already satisfied: click>=8.0 in /Library/Frameworks/Python.framework/Versions/3.8/lib/python3.8/site-packages (from Flask>=0.8->flask_ngrok) (8.1.3)\n",
      "Requirement already satisfied: Werkzeug>=2.2.2 in /Library/Frameworks/Python.framework/Versions/3.8/lib/python3.8/site-packages (from Flask>=0.8->flask_ngrok) (2.2.2)\n",
      "Requirement already satisfied: idna<4,>=2.5 in /Library/Frameworks/Python.framework/Versions/3.8/lib/python3.8/site-packages (from requests->flask_ngrok) (3.3)\n",
      "Requirement already satisfied: charset-normalizer~=2.0.0 in /Library/Frameworks/Python.framework/Versions/3.8/lib/python3.8/site-packages (from requests->flask_ngrok) (2.0.12)\n",
      "Requirement already satisfied: certifi>=2017.4.17 in /Library/Frameworks/Python.framework/Versions/3.8/lib/python3.8/site-packages (from requests->flask_ngrok) (2022.6.15)\n",
      "Requirement already satisfied: urllib3<1.27,>=1.21.1 in /Library/Frameworks/Python.framework/Versions/3.8/lib/python3.8/site-packages (from requests->flask_ngrok) (1.26.9)\n",
      "Requirement already satisfied: zipp>=0.5 in /Library/Frameworks/Python.framework/Versions/3.8/lib/python3.8/site-packages (from importlib-metadata>=3.6.0->Flask>=0.8->flask_ngrok) (3.8.0)\n",
      "Requirement already satisfied: MarkupSafe>=2.0 in /Library/Frameworks/Python.framework/Versions/3.8/lib/python3.8/site-packages (from Jinja2>=3.0->Flask>=0.8->flask_ngrok) (2.1.1)\n",
      "\u001b[33mWARNING: You are using pip version 22.0.4; however, version 22.3.1 is available.\n",
      "You should consider upgrading via the '/Library/Frameworks/Python.framework/Versions/3.8/bin/python3.8 -m pip install --upgrade pip' command.\u001b[0m\u001b[33m\n",
      "\u001b[0m"
     ]
    }
   ],
   "source": [
    "import pandas as pd\n",
    "from sklearn.metrics.pairwise import linear_kernel\n",
    "from sklearn.feature_extraction.text import TfidfVectorizer\n",
    "from sklearn.feature_extraction.text import CountVectorizer\n",
    "from sklearn.metrics.pairwise import cosine_similarity\n",
    "!pip install flask_ngrok \n",
    "import flask\n",
    "import difflib\n",
    "from flask import Flask,request,render_template\n",
    "from flask_ngrok import run_with_ngrok"
   ]
  },
  {
   "cell_type": "code",
   "execution_count": 2,
   "metadata": {
    "colab": {},
    "colab_type": "code",
    "id": "zJ3UlH8bjUoe"
   },
   "outputs": [],
   "source": [
    "ratings=pd.read_csv('Ratings .csv')\n",
    "movies=pd.read_csv('movies.csv')\n",
    "userdata=pd.read_csv('user_data.csv')\n",
    "d=pd.merge(userdata,ratings,on='UserID',how='left')\n",
    "df=pd.merge(d,movies,on='MovieID',how='left')"
   ]
  },
  {
   "cell_type": "markdown",
   "metadata": {
    "colab_type": "text",
    "id": "yndgODe2dHJh"
   },
   "source": [
    "# New section"
   ]
  },
  {
   "cell_type": "markdown",
   "metadata": {
    "colab_type": "text",
    "id": "yPF-VAPq8LGl"
   },
   "source": [
    "***User Based Surprise SVD***"
   ]
  },
  {
   "cell_type": "code",
   "execution_count": 3,
   "metadata": {
    "colab": {},
    "colab_type": "code",
    "id": "7GcUbTXlmkIn"
   },
   "outputs": [],
   "source": [
    "e = pd.read_csv('svd_p.csv')    ##Read predicted(USER BASED) dataset"
   ]
  },
  {
   "cell_type": "code",
   "execution_count": 4,
   "metadata": {
    "colab": {},
    "colab_type": "code",
    "id": "BqlqcOaLJj8H"
   },
   "outputs": [],
   "source": [
    "#Recommend Top N to User\n",
    "def recommend(userid_, n):\n",
    "  f=e.loc[e[(e.uid==userid_)].est.sort_values(ascending=False).index][:n].iid.tolist()\n",
    "  p=movies.loc[movies[movies.MovieID.isin(f)].index]\n",
    "  k = ratings.loc[ratings[(ratings.UserID==userid_)].index]['MovieID'].tolist()\n",
    "  return p.loc[p[~p.MovieID.isin(k)].index]\n",
    "\n",
    "def rec(a,b):\n",
    "  t = recommend(a,b)[['MovieID','Title','Genres']]\n",
    "  t1,t2,t3 = t['MovieID'].to_list(),t['Title'].to_list(),t['Genres'].to_list()\n",
    "  return t1,t2,t3\n"
   ]
  },
  {
   "cell_type": "code",
   "execution_count": 5,
   "metadata": {
    "colab": {},
    "colab_type": "code",
    "id": "XZl-tcIt6-A1"
   },
   "outputs": [
    {
     "data": {
      "text/html": [
       "<div>\n",
       "<style scoped>\n",
       "    .dataframe tbody tr th:only-of-type {\n",
       "        vertical-align: middle;\n",
       "    }\n",
       "\n",
       "    .dataframe tbody tr th {\n",
       "        vertical-align: top;\n",
       "    }\n",
       "\n",
       "    .dataframe thead th {\n",
       "        text-align: right;\n",
       "    }\n",
       "</style>\n",
       "<table border=\"1\" class=\"dataframe\">\n",
       "  <thead>\n",
       "    <tr style=\"text-align: right;\">\n",
       "      <th></th>\n",
       "      <th>MovieID</th>\n",
       "      <th>Title</th>\n",
       "      <th>Genres</th>\n",
       "    </tr>\n",
       "  </thead>\n",
       "  <tbody>\n",
       "    <tr>\n",
       "      <th>315</th>\n",
       "      <td>318</td>\n",
       "      <td>Shawshank Redemption, The (1994)</td>\n",
       "      <td>Drama</td>\n",
       "    </tr>\n",
       "    <tr>\n",
       "      <th>589</th>\n",
       "      <td>593</td>\n",
       "      <td>Silence of the Lambs, The (1991)</td>\n",
       "      <td>Drama|Thriller</td>\n",
       "    </tr>\n",
       "    <tr>\n",
       "      <th>891</th>\n",
       "      <td>903</td>\n",
       "      <td>Vertigo (1958)</td>\n",
       "      <td>Mystery|Thriller</td>\n",
       "    </tr>\n",
       "    <tr>\n",
       "      <th>892</th>\n",
       "      <td>904</td>\n",
       "      <td>Rear Window (1954)</td>\n",
       "      <td>Mystery|Thriller</td>\n",
       "    </tr>\n",
       "    <tr>\n",
       "      <th>908</th>\n",
       "      <td>920</td>\n",
       "      <td>Gone with the Wind (1939)</td>\n",
       "      <td>Drama|Romance|War</td>\n",
       "    </tr>\n",
       "    <tr>\n",
       "      <th>941</th>\n",
       "      <td>953</td>\n",
       "      <td>It's a Wonderful Life (1946)</td>\n",
       "      <td>Drama</td>\n",
       "    </tr>\n",
       "    <tr>\n",
       "      <th>1180</th>\n",
       "      <td>1198</td>\n",
       "      <td>Raiders of the Lost Ark (1981)</td>\n",
       "      <td>Action|Adventure</td>\n",
       "    </tr>\n",
       "    <tr>\n",
       "      <th>1215</th>\n",
       "      <td>1234</td>\n",
       "      <td>Sting, The (1973)</td>\n",
       "      <td>Comedy|Crime</td>\n",
       "    </tr>\n",
       "    <tr>\n",
       "      <th>1230</th>\n",
       "      <td>1250</td>\n",
       "      <td>Bridge on the River Kwai, The (1957)</td>\n",
       "      <td>Drama|War</td>\n",
       "    </tr>\n",
       "    <tr>\n",
       "      <th>1252</th>\n",
       "      <td>1272</td>\n",
       "      <td>Patton (1970)</td>\n",
       "      <td>Drama|War</td>\n",
       "    </tr>\n",
       "    <tr>\n",
       "      <th>1287</th>\n",
       "      <td>1307</td>\n",
       "      <td>When Harry Met Sally... (1989)</td>\n",
       "      <td>Comedy|Romance</td>\n",
       "    </tr>\n",
       "    <tr>\n",
       "      <th>2836</th>\n",
       "      <td>2905</td>\n",
       "      <td>Sanjuro (1962)</td>\n",
       "      <td>Action|Adventure</td>\n",
       "    </tr>\n",
       "    <tr>\n",
       "      <th>3129</th>\n",
       "      <td>3198</td>\n",
       "      <td>Papillon (1973)</td>\n",
       "      <td>Drama</td>\n",
       "    </tr>\n",
       "  </tbody>\n",
       "</table>\n",
       "</div>"
      ],
      "text/plain": [
       "      MovieID                                 Title             Genres\n",
       "315       318      Shawshank Redemption, The (1994)              Drama\n",
       "589       593      Silence of the Lambs, The (1991)     Drama|Thriller\n",
       "891       903                        Vertigo (1958)   Mystery|Thriller\n",
       "892       904                    Rear Window (1954)   Mystery|Thriller\n",
       "908       920             Gone with the Wind (1939)  Drama|Romance|War\n",
       "941       953          It's a Wonderful Life (1946)              Drama\n",
       "1180     1198        Raiders of the Lost Ark (1981)   Action|Adventure\n",
       "1215     1234                     Sting, The (1973)       Comedy|Crime\n",
       "1230     1250  Bridge on the River Kwai, The (1957)          Drama|War\n",
       "1252     1272                         Patton (1970)          Drama|War\n",
       "1287     1307        When Harry Met Sally... (1989)     Comedy|Romance\n",
       "2836     2905                        Sanjuro (1962)   Action|Adventure\n",
       "3129     3198                       Papillon (1973)              Drama"
      ]
     },
     "execution_count": 5,
     "metadata": {},
     "output_type": "execute_result"
    }
   ],
   "source": [
    "recommend(1,15)"
   ]
  },
  {
   "cell_type": "markdown",
   "metadata": {
    "colab_type": "text",
    "id": "OaXGa2WSMxkX"
   },
   "source": [
    "***Content Based (Genres)***"
   ]
  },
  {
   "cell_type": "code",
   "execution_count": 6,
   "metadata": {
    "colab": {},
    "colab_type": "code",
    "id": "CIVsaCtONKd9"
   },
   "outputs": [
    {
     "name": "stdout",
     "output_type": "stream",
     "text": [
      "Movies Similar to :  Dracula: Dead and Loving It (1995)\n"
     ]
    },
    {
     "data": {
      "text/html": [
       "<div>\n",
       "<style scoped>\n",
       "    .dataframe tbody tr th:only-of-type {\n",
       "        vertical-align: middle;\n",
       "    }\n",
       "\n",
       "    .dataframe tbody tr th {\n",
       "        vertical-align: top;\n",
       "    }\n",
       "\n",
       "    .dataframe thead th {\n",
       "        text-align: right;\n",
       "    }\n",
       "</style>\n",
       "<table border=\"1\" class=\"dataframe\">\n",
       "  <thead>\n",
       "    <tr style=\"text-align: right;\">\n",
       "      <th></th>\n",
       "      <th>Title</th>\n",
       "    </tr>\n",
       "  </thead>\n",
       "  <tbody>\n",
       "    <tr>\n",
       "      <th>326</th>\n",
       "      <td>Tales from the Hood (1995)</td>\n",
       "    </tr>\n",
       "    <tr>\n",
       "      <th>726</th>\n",
       "      <td>Cemetery Man (Dellamorte Dellamore) (1994)</td>\n",
       "    </tr>\n",
       "    <tr>\n",
       "      <th>789</th>\n",
       "      <td>Frighteners, The (1996)</td>\n",
       "    </tr>\n",
       "    <tr>\n",
       "      <th>1221</th>\n",
       "      <td>Braindead (1992)</td>\n",
       "    </tr>\n",
       "    <tr>\n",
       "      <th>1235</th>\n",
       "      <td>Bad Taste (1987)</td>\n",
       "    </tr>\n",
       "    <tr>\n",
       "      <th>1258</th>\n",
       "      <td>Young Frankenstein (1974)</td>\n",
       "    </tr>\n",
       "    <tr>\n",
       "      <th>1310</th>\n",
       "      <td>April Fool's Day (1986)</td>\n",
       "    </tr>\n",
       "    <tr>\n",
       "      <th>1409</th>\n",
       "      <td>Machine, The (1994)</td>\n",
       "    </tr>\n",
       "    <tr>\n",
       "      <th>1934</th>\n",
       "      <td>Gremlins (1984)</td>\n",
       "    </tr>\n",
       "    <tr>\n",
       "      <th>1935</th>\n",
       "      <td>Gremlins 2: The New Batch (1990)</td>\n",
       "    </tr>\n",
       "  </tbody>\n",
       "</table>\n",
       "</div>"
      ],
      "text/plain": [
       "                                           Title\n",
       "326                   Tales from the Hood (1995)\n",
       "726   Cemetery Man (Dellamorte Dellamore) (1994)\n",
       "789                      Frighteners, The (1996)\n",
       "1221                            Braindead (1992)\n",
       "1235                            Bad Taste (1987)\n",
       "1258                   Young Frankenstein (1974)\n",
       "1310                     April Fool's Day (1986)\n",
       "1409                         Machine, The (1994)\n",
       "1934                             Gremlins (1984)\n",
       "1935            Gremlins 2: The New Batch (1990)"
      ]
     },
     "execution_count": 6,
     "metadata": {},
     "output_type": "execute_result"
    }
   ],
   "source": [
    "#Split Movies Genres in str\n",
    "movies['Genres_'] = movies['Genres'].str.split('|')\n",
    "movies['Genres_'] = movies['Genres'].fillna(\"\").astype('str')\n",
    "movies.head(50)\n",
    "\n",
    "\n",
    "tf = TfidfVectorizer(analyzer='word',ngram_range=(1, 2),min_df=0)\n",
    "matrix = tf.fit_transform(movies['Genres_'])\n",
    "csim = linear_kernel(matrix,matrix)\n",
    "\n",
    "titles = movies['Title']\n",
    "indices = pd.Series(movies.index, index=movies['Title'])\n",
    "\n",
    "#Recommend Similar Movies\n",
    "def c_rec(title):\n",
    "    idx = indices[title]\n",
    "    sim_sc = list(enumerate(csim[idx]))\n",
    "    sim_sc = sorted(sim_sc, key=lambda x: x[1], reverse=True)[1:]\n",
    "    movie_idx = [i[0] for i in sim_sc]\n",
    "    print('Movies Similar to : ',title)\n",
    "    yy=pd.DataFrame(movies.Title.iloc[movie_idx])[:10]\n",
    "    return yy\n",
    "c_rec('Dracula: Dead and Loving It (1995)')"
   ]
  },
  {
   "cell_type": "markdown",
   "metadata": {
    "colab_type": "text",
    "id": "AJl3Sz5Ds0fu"
   },
   "source": [
    "***CountVectorizer***"
   ]
  },
  {
   "cell_type": "code",
   "execution_count": 7,
   "metadata": {
    "colab": {},
    "colab_type": "code",
    "id": "_UX8HdgVmwGA"
   },
   "outputs": [
    {
     "data": {
      "text/html": [
       "<div>\n",
       "<style scoped>\n",
       "    .dataframe tbody tr th:only-of-type {\n",
       "        vertical-align: middle;\n",
       "    }\n",
       "\n",
       "    .dataframe tbody tr th {\n",
       "        vertical-align: top;\n",
       "    }\n",
       "\n",
       "    .dataframe thead th {\n",
       "        text-align: right;\n",
       "    }\n",
       "</style>\n",
       "<table border=\"1\" class=\"dataframe\">\n",
       "  <thead>\n",
       "    <tr style=\"text-align: right;\">\n",
       "      <th></th>\n",
       "      <th>Title</th>\n",
       "      <th>Genres</th>\n",
       "    </tr>\n",
       "  </thead>\n",
       "  <tbody>\n",
       "    <tr>\n",
       "      <th>153</th>\n",
       "      <td>Beyond Rangoon (1995)</td>\n",
       "      <td>Drama|War</td>\n",
       "    </tr>\n",
       "    <tr>\n",
       "      <th>332</th>\n",
       "      <td>Walking Dead, The (1995)</td>\n",
       "      <td>Drama|War</td>\n",
       "    </tr>\n",
       "    <tr>\n",
       "      <th>523</th>\n",
       "      <td>Schindler's List (1993)</td>\n",
       "      <td>Drama|War</td>\n",
       "    </tr>\n",
       "    <tr>\n",
       "      <th>641</th>\n",
       "      <td>Courage Under Fire (1996)</td>\n",
       "      <td>Drama|War</td>\n",
       "    </tr>\n",
       "    <tr>\n",
       "      <th>967</th>\n",
       "      <td>Nothing Personal (1995)</td>\n",
       "      <td>Drama|War</td>\n",
       "    </tr>\n",
       "    <tr>\n",
       "      <th>979</th>\n",
       "      <td>Michael Collins (1996)</td>\n",
       "      <td>Drama|War</td>\n",
       "    </tr>\n",
       "    <tr>\n",
       "      <th>1074</th>\n",
       "      <td>Platoon (1986)</td>\n",
       "      <td>Drama|War</td>\n",
       "    </tr>\n",
       "    <tr>\n",
       "      <th>1162</th>\n",
       "      <td>Paths of Glory (1957)</td>\n",
       "      <td>Drama|War</td>\n",
       "    </tr>\n",
       "    <tr>\n",
       "      <th>1190</th>\n",
       "      <td>Apocalypse Now (1979)</td>\n",
       "      <td>Drama|War</td>\n",
       "    </tr>\n",
       "    <tr>\n",
       "      <th>1199</th>\n",
       "      <td>Ran (1985)</td>\n",
       "      <td>Drama|War</td>\n",
       "    </tr>\n",
       "  </tbody>\n",
       "</table>\n",
       "</div>"
      ],
      "text/plain": [
       "                          Title     Genres\n",
       "153       Beyond Rangoon (1995)  Drama|War\n",
       "332    Walking Dead, The (1995)  Drama|War\n",
       "523     Schindler's List (1993)  Drama|War\n",
       "641   Courage Under Fire (1996)  Drama|War\n",
       "967     Nothing Personal (1995)  Drama|War\n",
       "979      Michael Collins (1996)  Drama|War\n",
       "1074             Platoon (1986)  Drama|War\n",
       "1162      Paths of Glory (1957)  Drama|War\n",
       "1190      Apocalypse Now (1979)  Drama|War\n",
       "1199                 Ran (1985)  Drama|War"
      ]
     },
     "execution_count": 7,
     "metadata": {},
     "output_type": "execute_result"
    }
   ],
   "source": [
    "#fit and Trnasform the data into Vectorizer\n",
    "cv = CountVectorizer()\n",
    "cv_matrix = cv.fit_transform(movies['Genres'])\n",
    "simc = cosine_similarity(cv_matrix, cv_matrix)\n",
    "\n",
    "movies_ = movies.reset_index()\n",
    "indices = pd.Series(movies_.index, index=movies_['Title'])\n",
    "all_titles = [movies['Title'][i] for i in range(len(movies_['Title']))]\n",
    "\n",
    "# Recommendation\n",
    "def get_recommendations(title):\n",
    "    idx = indices[title]\n",
    "    sim_scores = list(enumerate(simc[idx]))\n",
    "    sim_scores = sorted(sim_scores, key=lambda x: x[1], reverse=True)\n",
    "    sim_scores = sim_scores[1:11]\n",
    "    movie_indices = [i[0] for i in sim_scores]\n",
    "    tit = movies['Title'].iloc[movie_indices]\n",
    "    dat = movies['Genres'].iloc[movie_indices]\n",
    "    return_df = pd.DataFrame(columns=['Title','Genres'])\n",
    "    return_df['Title'] = tit\n",
    "    return_df['Genres'] = dat\n",
    "    return return_df\n",
    "get_recommendations('Paths of Glory (1957)')"
   ]
  },
  {
   "cell_type": "code",
   "execution_count": null,
   "metadata": {
    "colab": {
     "base_uri": "https://localhost:8080/",
     "height": 147
    },
    "colab_type": "code",
    "id": "GCd-R_TkIMGQ",
    "outputId": "a81aedc8-71be-400a-ce2e-7c0d83534b83"
   },
   "outputs": [
    {
     "name": "stdout",
     "output_type": "stream",
     "text": [
      " * Serving Flask app '__main__'\n",
      " * Debug mode: off\n"
     ]
    },
    {
     "name": "stderr",
     "output_type": "stream",
     "text": [
      "\u001b[31m\u001b[1mWARNING: This is a development server. Do not use it in a production deployment. Use a production WSGI server instead.\u001b[0m\n",
      " * Running on http://127.0.0.1:5000\n",
      "\u001b[33mPress CTRL+C to quit\u001b[0m\n",
      "Exception in thread Thread-5:\n",
      "Traceback (most recent call last):\n",
      "  File \"/Library/Frameworks/Python.framework/Versions/3.8/lib/python3.8/threading.py\", line 932, in _bootstrap_inner\n",
      "    self.run()\n",
      "  File \"/Library/Frameworks/Python.framework/Versions/3.8/lib/python3.8/threading.py\", line 1254, in run\n",
      "    self.function(*self.args, **self.kwargs)\n",
      "  File \"/Library/Frameworks/Python.framework/Versions/3.8/lib/python3.8/site-packages/flask_ngrok.py\", line 70, in start_ngrok\n",
      "    ngrok_address = _run_ngrok()\n",
      "  File \"/Library/Frameworks/Python.framework/Versions/3.8/lib/python3.8/site-packages/flask_ngrok.py\", line 31, in _run_ngrok\n",
      "    ngrok = subprocess.Popen([executable, 'http', '5000'])\n",
      "  File \"/Library/Frameworks/Python.framework/Versions/3.8/lib/python3.8/subprocess.py\", line 858, in __init__\n",
      "    self._execute_child(args, executable, preexec_fn, close_fds,\n",
      "  File \"/Library/Frameworks/Python.framework/Versions/3.8/lib/python3.8/subprocess.py\", line 1704, in _execute_child\n",
      "    raise child_exception_type(errno_num, err_msg, err_filename)\n",
      "PermissionError: [Errno 13] Permission denied: '/var/folders/vs/gh9z7_2n66g8c9ty11755kv80000gn/T/ngrok/ngrok'\n",
      "127.0.0.1 - - [09/Nov/2022 12:38:51] \"GET / HTTP/1.1\" 200 -\n",
      "127.0.0.1 - - [09/Nov/2022 12:38:59] \"POST /predict/ HTTP/1.1\" 200 -\n"
     ]
    },
    {
     "name": "stdout",
     "output_type": "stream",
     "text": [
      "Beyond Rangoon (1995)\n"
     ]
    }
   ],
   "source": [
    "\n",
    "app = flask.Flask(__name__, template_folder='templates')\n",
    "run_with_ngrok(app)\n",
    "\n",
    "\n",
    "@app.route('/', methods=['GET', 'POST'])\n",
    "def index(): return render_template('front.html')\n",
    "\n",
    "\n",
    "@app.route(\"/predict/\",methods=[\"POST\"])\n",
    "def main():\n",
    "  if request.method == 'POST': m_name = request.form['movie_name'].title()\n",
    "  if request.method == \"GET\" : m_name = request.args.get('movie_name').title()\n",
    "  \n",
    "\n",
    "  print(m_name)\n",
    "  if m_name not in all_titles: return(render_template('front.html'))\n",
    "  else:\n",
    "    result_final = get_recommendations(m_name)\n",
    "    names = []\n",
    "    dates = []\n",
    "    for i in range(len(result_final)):\n",
    "      names.append(result_final.iloc[i][0])\n",
    "      dates.append(result_final.iloc[i][1])\n",
    "    return flask.render_template('back.html',result = 1,ret = zip(names,dates),search_name=m_name)\n",
    "\n",
    "\n",
    "@app.route(\"/user/\",methods=[\"POST\"])\n",
    "def userPred():\n",
    "  print(request.method)\n",
    "\n",
    "  try: a = int(request.form['user_id'])\n",
    "  except: return render_template('front.html')\n",
    "  print(a)\n",
    "  b = 30\n",
    "  t1,t2,t3 = rec(a,b)\n",
    "  return render_template('back.html',neut = 1,ret = zip(t1,t2,t3))\n",
    "\n",
    "if __name__ == '__main__':\n",
    "    app.run()"
   ]
  },
  {
   "cell_type": "code",
   "execution_count": null,
   "metadata": {},
   "outputs": [],
   "source": []
  },
  {
   "cell_type": "code",
   "execution_count": null,
   "metadata": {},
   "outputs": [],
   "source": []
  }
 ],
 "metadata": {
  "colab": {
   "collapsed_sections": [],
   "name": "app.ipynb",
   "provenance": [],
   "toc_visible": true
  },
  "kernelspec": {
   "display_name": "Python 3 (ipykernel)",
   "language": "python",
   "name": "python3"
  },
  "language_info": {
   "codemirror_mode": {
    "name": "ipython",
    "version": 3
   },
   "file_extension": ".py",
   "mimetype": "text/x-python",
   "name": "python",
   "nbconvert_exporter": "python",
   "pygments_lexer": "ipython3",
   "version": "3.8.10"
  }
 },
 "nbformat": 4,
 "nbformat_minor": 1
}
